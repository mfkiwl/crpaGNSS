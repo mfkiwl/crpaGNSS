{
 "cells": [
  {
   "cell_type": "code",
   "execution_count": 17,
   "metadata": {},
   "outputs": [],
   "source": [
    "import numpy as np\n",
    "import navtools as nt\n",
    "from scipy.linalg import inv, norm, eig, svd, det\n",
    "\n",
    "LIGHT_SPEED = 299792458.0  #! [m/s]\n",
    "FREQUENCY = 1575.42e6  #! [Hz]\n",
    "CHIP_FREQ = 1.023e6  #! [chips/s]\n",
    "WAVELENGTH = LIGHT_SPEED / FREQUENCY  #! [m]\n",
    "CHIP_WIDTH = LIGHT_SPEED / CHIP_FREQ  #! [m/chip]\n",
    "\n",
    "R2D = 180 / np.pi\n",
    "LLA_R2D = np.array([R2D, R2D, 1], dtype=float)"
   ]
  },
  {
   "cell_type": "code",
   "execution_count": 18,
   "metadata": {},
   "outputs": [],
   "source": [
    "##### *SETUP* #####\n",
    "CN0 = 50\n",
    "TRUE_AZ = np.array([77.62,  163.93,   55.5 ,  -73.75,  -20.07,  -94.36, -114.59, 49.77, -142.6])\n",
    "TRUE_EL = np.array([53.82, 40.59,  6.16, 19.19, 59.38, 55.58, 26.75, 33.31, 71.03])\n",
    "L = TRUE_AZ.size\n",
    "\n",
    "ant_body = (\n",
    "    np.array(\n",
    "        [\n",
    "            [0, 0, 0],\n",
    "            [WAVELENGTH, 0, 0],\n",
    "            [0, -WAVELENGTH, 0],\n",
    "            [WAVELENGTH, -WAVELENGTH, 0],\n",
    "        ],\n",
    "        dtype=float,\n",
    "    )\n",
    "    / 2.0\n",
    ")\n",
    "ant_att_rpy = np.zeros(3)\n",
    "ant_att_rpy = np.array([0, 0, -30], dtype=float)\n",
    "C_b_n = nt.euler2dcm(ant_att_rpy / R2D, \"enu\")\n",
    "ant_xyz = np.zeros(ant_body.shape)\n",
    "for i in range(ant_xyz.shape[0]):\n",
    "    ant_xyz[i, :] = C_b_n @ ant_body[i, :]\n"
   ]
  },
  {
   "cell_type": "code",
   "execution_count": 24,
   "metadata": {},
   "outputs": [
    {
     "name": "stdout",
     "output_type": "stream",
     "text": [
      "[[-0.          0.0893463   0.28131447  0.37066077]\n",
      " [-0.          0.3685259  -0.09140574  0.27712016]\n",
      " [ 0.         -0.03900304  0.49558063  0.45657758]\n",
      " [ 0.         -0.34111245 -0.32654414 -0.66765659]\n",
      " [ 0.         -0.25085574  0.0439167  -0.20693904]\n",
      " [ 0.         -0.12229722 -0.25479735 -0.37709457]\n",
      " [-0.         -0.04209595 -0.4445006  -0.48659655]\n",
      " [ 0.         -0.0742112   0.41121301  0.33700181]\n",
      " [ 0.          0.06246202 -0.15005537 -0.08759335]]\n"
     ]
    }
   ],
   "source": [
    "##### *CORRELATORS* #####\n",
    "true_u = np.array([np.sin(TRUE_AZ / R2D) * np.cos(TRUE_EL / R2D), np.cos(TRUE_AZ / R2D) * np.cos(TRUE_EL / R2D),  np.sin(TRUE_EL / R2D)])\n",
    "spatial_phase = np.array([ant_xyz @ true_u[:, i] for i in range(true_u.shape[1])]).T\n",
    "\n",
    "X = np.zeros(spatial_phase.shape, dtype=complex)\n",
    "phase_err = 0.0 * np.random.randn(L) - spatial_phase / WAVELENGTH\n",
    "chip_err = 0.0 * np.random.randn(L) - spatial_phase / CHIP_WIDTH\n",
    "freq_err = 0.0 * np.random.randn(L) + spatial_phase / WAVELENGTH * 0.02\n",
    "print(phase_err.T)\n",
    "\n",
    "A = np.sqrt(2.0 * 10 ** (CN0 / 10) * 0.02)\n",
    "R = 1.0 - np.abs(chip_err)\n",
    "R[R <= 0.0] = 0.0\n",
    "F = np.sinc(np.pi * freq_err * 0.02)\n",
    "P = np.exp(1j * 2.0 * np.pi * phase_err)\n",
    "tmp = A * R * F * P\n",
    "X.real = tmp.real #+ np.random.randn(X.shape[0], X.shape[1])\n",
    "X.imag = tmp.imag #+ np.random.randn(X.shape[0], X.shape[1])"
   ]
  },
  {
   "cell_type": "code",
   "execution_count": 20,
   "metadata": {},
   "outputs": [
    {
     "name": "stdout",
     "output_type": "stream",
     "text": [
      "true_az = [  77.62  163.93   55.5   -73.75  -20.07  -94.36 -114.59   49.77 -142.6 ]\n",
      "est_az  = [ -17.62 -107.05    4.41  133.75   80.07  154.36  174.59   10.23 -157.4 ] \n",
      "\n",
      "true_el = [53.82 40.59  6.16 19.19 59.38 55.58 26.75 33.31 71.03]\n",
      "est_el  = [-53.82 -35.55  -7.45 -19.19 -59.38 -55.58 -26.75 -33.31 -71.03] \n",
      "\n"
     ]
    }
   ],
   "source": [
    "##### *MUSIC* #####\n",
    "AZ_EST = np.zeros(TRUE_AZ.shape)\n",
    "EL_EST = np.zeros(TRUE_EL.shape)\n",
    "\n",
    "for l in range(L):\n",
    "    M = X.shape[0]\n",
    "    S = np.outer(X[:, l], X[:, l].conj()) / M  #! MxM covariance of X, Eq. 2\n",
    "    e, v = eig(S)\n",
    "    idx = np.abs(e) < (e.max() / 10)\n",
    "    N = int(np.sum(idx))\n",
    "    D = M - N  #! number of incident signals, Eq. 5\n",
    "    U = v[:, idx]  #! null space of S\n",
    "\n",
    "    k = 0\n",
    "    res = 10.0\n",
    "    az_mean = 0.0\n",
    "    el_mean = 0.0\n",
    "    az = np.arange(-180.0, 190.0, res)\n",
    "    el = np.arange(-90.0, 100.0, res)\n",
    "    P_music = np.zeros((az.size, el.size), dtype=float)\n",
    "    while res > 0.01:\n",
    "        if k > 0:\n",
    "            span = res / 2\n",
    "            new_res = res / 10\n",
    "            az = np.arange(az_mean - span, az_mean + span + new_res, new_res)\n",
    "            el = np.arange(el_mean - span, el_mean + span + new_res, new_res)\n",
    "            res = new_res\n",
    "            P_music = np.zeros((az.size, el.size), dtype=float)\n",
    "        for i in range(az.size):\n",
    "            for j in range(el.size):\n",
    "                u = np.array(\n",
    "                    [\n",
    "                        np.sin(az[i] / R2D) * np.cos(el[j] / R2D), \n",
    "                        np.cos(az[i] / R2D) * np.cos(el[j] / R2D), \n",
    "                        np.sin(el[j] / R2D)\n",
    "                    ]\n",
    "                )\n",
    "                a = np.exp(-1j * 2.0 * np.pi * (ant_body @ u) / WAVELENGTH)\n",
    "                P_music[i, j] = 1.0 / np.abs((a.conj().T @ U @ U.conj().T @ a))  #! 1 / euclidean distance, Eq. 6\n",
    "        az_idx, el_idx = np.unravel_index(P_music.argmax(), P_music.shape)\n",
    "\n",
    "        az_mean = az[az_idx]\n",
    "        el_mean = el[el_idx]\n",
    "        k += 1\n",
    "\n",
    "    AZ_EST[l] = az_mean\n",
    "    EL_EST[l] = el_mean\n",
    "\n",
    "print(f\"true_az = {TRUE_AZ}\")\n",
    "print(f\"est_az  = {np.round(AZ_EST,2)} \\n\")\n",
    "print(f\"true_el = {TRUE_EL}\")\n",
    "print(f\"est_el  = {np.round(EL_EST,2)} \\n\")"
   ]
  },
  {
   "cell_type": "code",
   "execution_count": 21,
   "metadata": {},
   "outputs": [
    {
     "name": "stdout",
     "output_type": "stream",
     "text": [
      "True Attitude = [  0.   0. -30.]\n",
      "Est. Attitude = [  2.5    0.6  -30.81]\n",
      "SVD  Attitude = [  1.08  -0.06 -30.5 ] \n",
      "\n"
     ]
    }
   ],
   "source": [
    "##### *INITIAL ATTITUDE ESTIMATE* #####\n",
    "R_inv = inv(2.0 / R2D * np.eye(L))\n",
    "# R_inv = np.eye(L)\n",
    "D_loc = np.array(\n",
    "    [\n",
    "        np.sin(AZ_EST / R2D) * np.cos(EL_EST / R2D),\n",
    "        np.cos(AZ_EST / R2D) * np.cos(EL_EST / R2D),\n",
    "        np.sin(EL_EST / R2D),\n",
    "    ],\n",
    ")\n",
    "D_enu = np.array(\n",
    "    [\n",
    "        np.sin(TRUE_AZ / R2D) * np.cos(TRUE_EL / R2D),\n",
    "        np.cos(TRUE_AZ / R2D) * np.cos(TRUE_EL / R2D),\n",
    "        np.sin(TRUE_EL / R2D),\n",
    "    ],\n",
    ")\n",
    "M_hat = D_loc @ R_inv @ D_enu.T @ inv(D_enu @ R_inv @ D_enu.T)\n",
    "rpy_hat = nt.dcm2euler(M_hat, \"enu\") * R2D\n",
    "# rpy_hat = np.array(\n",
    "#         [\n",
    "#             -np.arctan2(M_hat[2, 1], -M_hat[2, 2]), \n",
    "#             np.arcsin(M_hat[2, 0]), \n",
    "#             # np.arctan2(M_hat[2, 0], norm(M_hat[[0, 0], [1, 0]])),\n",
    "#             np.arctan2(M_hat[0, 0], M_hat[1, 0])\n",
    "#         ]\n",
    "#       ) * R2D\n",
    "\n",
    "\n",
    "B = D_loc @ R_inv @ D_enu.T\n",
    "U, _, V = svd(B)\n",
    "d = det(U) * det(V.T)\n",
    "M_svd = U @ np.diag([1.0,1.0,d]) @ V\n",
    "rpy_svd = nt.dcm2euler(M_svd, \"enu\") * R2D\n",
    "# rpy_svd = np.array(\n",
    "#         [\n",
    "#             -np.arctan2(M_svd[2, 1], -M_svd[2, 2]), \n",
    "#             np.arcsin(M_svd[2, 0]), \n",
    "#             # np.arctan2(M_svd[2, 0], norm(M_svd[[0, 0], [1, 0]])),\n",
    "#             np.arctan2(M_svd[0, 0], M_svd[1, 0])\n",
    "#         ]\n",
    "#       ) * R2D\n",
    "\n",
    "print(f\"True Attitude = {np.round(ant_att_rpy,2)}\")\n",
    "print(f\"Est. Attitude = {np.round(rpy_hat,2)}\")\n",
    "print(f\"SVD  Attitude = {np.round(rpy_svd,2)} \\n\")"
   ]
  },
  {
   "cell_type": "code",
   "execution_count": 22,
   "metadata": {},
   "outputs": [],
   "source": [
    "##### *RECURSIVE ATTITUDE REFINEMENT* #####"
   ]
  }
 ],
 "metadata": {
  "kernelspec": {
   "display_name": "charlizard-jHNn-XJK-py3.11",
   "language": "python",
   "name": "python3"
  },
  "language_info": {
   "codemirror_mode": {
    "name": "ipython",
    "version": 3
   },
   "file_extension": ".py",
   "mimetype": "text/x-python",
   "name": "python",
   "nbconvert_exporter": "python",
   "pygments_lexer": "ipython3",
   "version": "3.11.4"
  }
 },
 "nbformat": 4,
 "nbformat_minor": 2
}
