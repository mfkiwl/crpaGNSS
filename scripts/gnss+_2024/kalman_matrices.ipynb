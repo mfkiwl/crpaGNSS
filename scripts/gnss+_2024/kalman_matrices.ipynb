{
 "cells": [
  {
   "cell_type": "code",
   "execution_count": 31,
   "metadata": {},
   "outputs": [],
   "source": [
    "import sympy\n",
    "from sympy import latex\n",
    "from sympy.physics.mechanics import init_vprinting\n",
    "from IPython.display import display, Math\n",
    "\n",
    "init_vprinting()\n",
    "def skew(v):\n",
    "    return sympy.Matrix([[0, -v[2], v[1]], [v[2], 0, -v[0]], [-v[1], v[0], 0]])\n",
    "C_ned_enu = sympy.Matrix([[0,1,0],[1,0,0],[0,0,-1]])\n",
    "\n",
    "vn, ve, vd = sympy.symbols('v_n v_e v_d')\n",
    "phi, lamb, h = sympy.symbols('\\\\phi \\\\lambda h')\n",
    "w_ie = sympy.symbols('\\\\omega_{ie}')\n",
    "C_b_n, f_ib_b, w_ib_b = sympy.symbols('C_b_n f_{ib}^b \\omega_{ib}^b')\n",
    "Re, Rn, r_es_e, g0, e = sympy.symbols('R_e R_n R_{eS}^e, g_0 e')\n",
    "\n",
    "sL, cL, tL = sympy.sin(phi), sympy.cos(phi), sympy.tan(phi)\n",
    "Re_h = Re + h\n",
    "Rn_h = Rn + h\n",
    "Re_h2 = Re_h * Re_h\n",
    "Rn_h2 = Rn_h * Rn_h"
   ]
  },
  {
   "cell_type": "code",
   "execution_count": 32,
   "metadata": {},
   "outputs": [
    {
     "name": "stdout",
     "output_type": "stream",
     "text": [
      "NED\n"
     ]
    },
    {
     "data": {
      "text/latex": [
       "$\\displaystyle F_{11} = \\left[\\begin{matrix}0 & - \\omega_{ie} \\sin{\\left(\\phi \\right)} + \\frac{v_{e} \\tan{\\left(\\phi \\right)}}{R_{e} + h} & \\frac{v_{n}}{R_{n} + h}\\\\\\omega_{ie} \\sin{\\left(\\phi \\right)} - \\frac{v_{e} \\tan{\\left(\\phi \\right)}}{R_{e} + h} & 0 & \\omega_{ie} \\cos{\\left(\\phi \\right)} + \\frac{v_{e}}{R_{e} + h}\\\\- \\frac{v_{n}}{R_{n} + h} & - \\omega_{ie} \\cos{\\left(\\phi \\right)} - \\frac{v_{e}}{R_{e} + h} & 0\\end{matrix}\\right]$"
      ],
      "text/plain": [
       "<IPython.core.display.Math object>"
      ]
     },
     "metadata": {},
     "output_type": "display_data"
    },
    {
     "data": {
      "text/latex": [
       "$\\displaystyle F_{12} = \\left[\\begin{matrix}0 & - \\frac{1}{R_{e} + h} & 0\\\\\\frac{1}{R_{n} + h} & 0 & 0\\\\0 & \\frac{\\tan{\\left(\\phi \\right)}}{R_{e} + h} & 0\\end{matrix}\\right]$"
      ],
      "text/plain": [
       "<IPython.core.display.Math object>"
      ]
     },
     "metadata": {},
     "output_type": "display_data"
    },
    {
     "data": {
      "text/latex": [
       "$\\displaystyle F_{13} = \\left[\\begin{matrix}\\omega_{ie} \\sin{\\left(\\phi \\right)} & 0 & \\frac{v_{e}}{\\left(R_{e} + h\\right)^{2}}\\\\0 & 0 & - \\frac{v_{n}}{\\left(R_{n} + h\\right)^{2}}\\\\\\omega_{ie} \\cos{\\left(\\phi \\right)} + \\frac{v_{e}}{\\left(R_{e} + h\\right) \\cos^{2}{\\left(\\phi \\right)}} & 0 & - \\frac{v_{e} \\tan{\\left(\\phi \\right)}}{\\left(R_{e} + h\\right)^{2}}\\end{matrix}\\right]$"
      ],
      "text/plain": [
       "<IPython.core.display.Math object>"
      ]
     },
     "metadata": {},
     "output_type": "display_data"
    },
    {
     "data": {
      "text/latex": [
       "$\\displaystyle F_{22} = \\left[\\begin{matrix}\\frac{v_{d}}{R_{n} + h} & - 2 \\omega_{ie} \\sin{\\left(\\phi \\right)} - \\frac{2 v_{e} \\tan{\\left(\\phi \\right)}}{R_{e} + h} & \\frac{v_{n}}{R_{n} + h}\\\\2 \\omega_{ie} \\sin{\\left(\\phi \\right)} + \\frac{v_{e} \\tan{\\left(\\phi \\right)}}{R_{e} + h} & \\frac{v_{d} + v_{n} \\tan{\\left(\\phi \\right)}}{R_{e} + h} & 2 \\omega_{ie} \\cos{\\left(\\phi \\right)} + \\frac{v_{e}}{R_{e} + h}\\\\- \\frac{2 v_{n}}{R_{n} + h} & - 2 \\omega_{ie} \\cos{\\left(\\phi \\right)} - \\frac{2 v_{e}}{R_{e} + h} & 0\\end{matrix}\\right]$"
      ],
      "text/plain": [
       "<IPython.core.display.Math object>"
      ]
     },
     "metadata": {},
     "output_type": "display_data"
    },
    {
     "data": {
      "text/latex": [
       "$\\displaystyle F_{23} = \\left[\\begin{matrix}- 2 \\omega_{ie} v_{e} \\cos{\\left(\\phi \\right)} - \\frac{v_{e}^{2}}{\\left(R_{e} + h\\right) \\cos^{2}{\\left(\\phi \\right)}} & 0 & - \\frac{v_{d} v_{n}}{\\left(R_{n} + h\\right)^{2}} + \\frac{v_{e}^{2} \\tan{\\left(\\phi \\right)}}{\\left(R_{e} + h\\right)^{2}}\\\\2 \\omega_{ie} \\left(- v_{d} \\sin{\\left(\\phi \\right)} + v_{n} \\cos{\\left(\\phi \\right)}\\right) + \\frac{v_{e} v_{n}}{\\left(R_{e} + h\\right) \\cos^{2}{\\left(\\phi \\right)}} & 0 & - \\frac{v_{e} \\left(v_{d} + v_{n} \\tan{\\left(\\phi \\right)}\\right)}{\\left(R_{e} + h\\right)^{2}}\\\\2 \\omega_{ie} v_{e} \\sin{\\left(\\phi \\right)} & 0 & \\frac{v_{e}^{2}}{\\left(R_{e} + h\\right)^{2}} + \\frac{v_{n}^{2}}{\\left(R_{n} + h\\right)^{2}} - \\frac{2 g_{0}}{R_{eS}^e}\\end{matrix}\\right]$"
      ],
      "text/plain": [
       "<IPython.core.display.Math object>"
      ]
     },
     "metadata": {},
     "output_type": "display_data"
    },
    {
     "data": {
      "text/latex": [
       "$\\displaystyle F_{32} = \\left[\\begin{matrix}\\frac{1}{R_{n} + h} & 0 & 0\\\\0 & \\frac{1}{\\left(R_{e} + h\\right) \\cos{\\left(\\phi \\right)}} & 0\\\\0 & 0 & -1\\end{matrix}\\right]$"
      ],
      "text/plain": [
       "<IPython.core.display.Math object>"
      ]
     },
     "metadata": {},
     "output_type": "display_data"
    },
    {
     "data": {
      "text/latex": [
       "$\\displaystyle F_{33} = \\left[\\begin{matrix}0 & 0 & - \\frac{v_{n}}{\\left(R_{n} + h\\right)^{2}}\\\\\\frac{v_{e} \\sin{\\left(\\phi \\right)}}{\\left(R_{e} + h\\right) \\cos^{2}{\\left(\\phi \\right)}} & 0 & - \\frac{v_{e}}{\\left(R_{e} + h\\right)^{2} \\cos{\\left(\\phi \\right)}}\\\\0 & 0 & 0\\end{matrix}\\right]$"
      ],
      "text/plain": [
       "<IPython.core.display.Math object>"
      ]
     },
     "metadata": {},
     "output_type": "display_data"
    }
   ],
   "source": [
    "# NED matrices\n",
    "w_en_n = sympy.Matrix([ve / (Re + h), -vn / (Rn + h), ve * tL / (Re + h)])  # Groves 5.44\n",
    "w_ie_n = sympy.Matrix([w_ie * cL, 0, -w_ie * sL])  # Groves 2.123\n",
    "\n",
    "F11 = -skew(w_en_n + w_ie_n)\n",
    "F12 = sympy.Matrix([[0, -1 / Re_h, 0], [1 / Rn_h, 0, 0], [0, tL / Re_h, 0]])\n",
    "F13 = sympy.Matrix(\n",
    "    [\n",
    "        [w_ie * sL, 0, ve / Re_h2],\n",
    "        [0, 0, -vn / Rn_h2],\n",
    "        [w_ie * cL + ve / (Re_h * cL**2), 0, -ve * tL / Re_h2],\n",
    "    ]\n",
    ")\n",
    "# F21 = -skew(C_b_n @ f_ib_b)\n",
    "F22 = sympy.Matrix(\n",
    "    [\n",
    "        [vd / Rn_h, -2 * (w_ie * sL + ve * tL / Re_h), vn / Rn_h],\n",
    "        [2 * w_ie * sL + ve * tL / Re_h, (vn * tL + vd) / Re_h, 2 * w_ie * cL + ve / Re_h],\n",
    "        [-2 * vn / Rn_h, -2 * (w_ie * cL + ve / Re_h), 0],\n",
    "    ]\n",
    ")\n",
    "F23 = sympy.Matrix(\n",
    "    [\n",
    "        [-ve**2 / (Re_h * cL**2) - 2*ve*w_ie*cL, 0, -vn * vd / Rn_h2 + ve**2 * tL / Re_h2],\n",
    "        [vn * ve / (Re_h * cL**2) + 2 * w_ie * (vn * cL - vd * sL), 0, -ve * (vn * tL + vd) / Re_h2],\n",
    "        [2 * ve * w_ie * sL, 0, ve**2 / Re_h2 + vn**2 / Rn_h2 - 2 * g0 / r_es_e],\n",
    "    ]\n",
    ")\n",
    "F32 = sympy.Matrix([[1 / Rn_h, 0, 0], [0, 1 / (Re_h * cL), 0], [0, 0, -1]])\n",
    "F33 = sympy.Matrix([[0, 0, -vn / Rn_h2], [ve * sL / (Re_h * cL**2), 0, -ve / (Re_h2 * cL)], [0, 0, 0]])\n",
    "T_r_p = F32\n",
    "\n",
    "print(\"NED\")\n",
    "display(Math( \"F_{11} = \" + latex(F11) ))\n",
    "display(Math( \"F_{12} = \" + latex(F12) ))\n",
    "display(Math( \"F_{13} = \" + latex(F13) ))\n",
    "display(Math( \"F_{22} = \" + latex(F22) ))\n",
    "display(Math( \"F_{23} = \" + latex(F23) ))\n",
    "display(Math( \"F_{32} = \" + latex(F32) ))\n",
    "display(Math( \"F_{33} = \" + latex(F33) ))"
   ]
  },
  {
   "cell_type": "code",
   "execution_count": 33,
   "metadata": {},
   "outputs": [
    {
     "name": "stdout",
     "output_type": "stream",
     "text": [
      "ENU\n"
     ]
    },
    {
     "data": {
      "text/latex": [
       "$\\displaystyle F_{11} = \\left[\\begin{matrix}\\omega_{ie} \\sin{\\left(\\phi \\right)} - \\frac{v_{e} \\tan{\\left(\\phi \\right)}}{R_{e} + h} & 0 & \\omega_{ie} \\cos{\\left(\\phi \\right)} + \\frac{v_{e}}{R_{e} + h}\\\\0 & - \\omega_{ie} \\sin{\\left(\\phi \\right)} + \\frac{v_{e} \\tan{\\left(\\phi \\right)}}{R_{e} + h} & \\frac{v_{n}}{R_{n} + h}\\\\\\frac{v_{n}}{R_{n} + h} & \\omega_{ie} \\cos{\\left(\\phi \\right)} + \\frac{v_{e}}{R_{e} + h} & 0\\end{matrix}\\right]$"
      ],
      "text/plain": [
       "<IPython.core.display.Math object>"
      ]
     },
     "metadata": {},
     "output_type": "display_data"
    },
    {
     "data": {
      "text/latex": [
       "$\\displaystyle F_{12} = \\left[\\begin{matrix}\\frac{1}{R_{n} + h} & 0 & 0\\\\0 & - \\frac{1}{R_{e} + h} & 0\\\\0 & - \\frac{\\tan{\\left(\\phi \\right)}}{R_{e} + h} & 0\\end{matrix}\\right]$"
      ],
      "text/plain": [
       "<IPython.core.display.Math object>"
      ]
     },
     "metadata": {},
     "output_type": "display_data"
    },
    {
     "data": {
      "text/latex": [
       "$\\displaystyle F_{13} = \\left[\\begin{matrix}0 & 0 & - \\frac{v_{n}}{\\left(R_{n} + h\\right)^{2}}\\\\\\omega_{ie} \\sin{\\left(\\phi \\right)} & 0 & \\frac{v_{e}}{\\left(R_{e} + h\\right)^{2}}\\\\- \\omega_{ie} \\cos{\\left(\\phi \\right)} - \\frac{v_{e}}{\\left(R_{e} + h\\right) \\cos^{2}{\\left(\\phi \\right)}} & 0 & \\frac{v_{e} \\tan{\\left(\\phi \\right)}}{\\left(R_{e} + h\\right)^{2}}\\end{matrix}\\right]$"
      ],
      "text/plain": [
       "<IPython.core.display.Math object>"
      ]
     },
     "metadata": {},
     "output_type": "display_data"
    },
    {
     "data": {
      "text/latex": [
       "$\\displaystyle F_{22} = \\left[\\begin{matrix}2 \\omega_{ie} \\sin{\\left(\\phi \\right)} + \\frac{v_{e} \\tan{\\left(\\phi \\right)}}{R_{e} + h} & \\frac{v_{n} \\tan{\\left(\\phi \\right)} + v_{u}}{R_{e} + h} & 2 \\omega_{ie} \\cos{\\left(\\phi \\right)} + \\frac{v_{e}}{R_{e} + h}\\\\\\frac{v_{u}}{R_{n} + h} & - 2 \\omega_{ie} \\sin{\\left(\\phi \\right)} - \\frac{2 v_{e} \\tan{\\left(\\phi \\right)}}{R_{e} + h} & \\frac{v_{n}}{R_{n} + h}\\\\\\frac{2 v_{n}}{R_{n} + h} & 2 \\omega_{ie} \\cos{\\left(\\phi \\right)} + \\frac{2 v_{e}}{R_{e} + h} & 0\\end{matrix}\\right]$"
      ],
      "text/plain": [
       "<IPython.core.display.Math object>"
      ]
     },
     "metadata": {},
     "output_type": "display_data"
    },
    {
     "data": {
      "text/latex": [
       "$\\displaystyle F_{23} = \\left[\\begin{matrix}2 \\omega_{ie} \\left(v_{n} \\cos{\\left(\\phi \\right)} - v_{u} \\sin{\\left(\\phi \\right)}\\right) + \\frac{v_{e} v_{n}}{\\left(R_{e} + h\\right) \\cos^{2}{\\left(\\phi \\right)}} & 0 & - \\frac{v_{e} \\left(v_{n} \\tan{\\left(\\phi \\right)} + v_{u}\\right)}{\\left(R_{e} + h\\right)^{2}}\\\\- 2 \\omega_{ie} v_{e} \\cos{\\left(\\phi \\right)} - \\frac{v_{e}^{2}}{\\left(R_{e} + h\\right) \\cos^{2}{\\left(\\phi \\right)}} & 0 & \\frac{v_{e}^{2} \\tan{\\left(\\phi \\right)}}{\\left(R_{e} + h\\right)^{2}} - \\frac{v_{n} v_{u}}{\\left(R_{n} + h\\right)^{2}}\\\\- 2 \\omega_{ie} v_{e} \\sin{\\left(\\phi \\right)} & 0 & - \\frac{v_{e}^{2}}{\\left(R_{e} + h\\right)^{2}} - \\frac{v_{n}^{2}}{\\left(R_{n} + h\\right)^{2}} + \\frac{2 g_{0}}{R_{eS}^e}\\end{matrix}\\right]$"
      ],
      "text/plain": [
       "<IPython.core.display.Math object>"
      ]
     },
     "metadata": {},
     "output_type": "display_data"
    },
    {
     "data": {
      "text/latex": [
       "$\\displaystyle F_{32} = \\left[\\begin{matrix}0 & \\frac{1}{\\left(R_{e} + h\\right) \\cos{\\left(\\phi \\right)}} & 0\\\\\\frac{1}{R_{n} + h} & 0 & 0\\\\0 & 0 & 1\\end{matrix}\\right]$"
      ],
      "text/plain": [
       "<IPython.core.display.Math object>"
      ]
     },
     "metadata": {},
     "output_type": "display_data"
    },
    {
     "data": {
      "text/latex": [
       "$\\displaystyle F_{33} = \\left[\\begin{matrix}\\frac{v_{e} \\sin{\\left(\\phi \\right)}}{\\left(R_{e} + h\\right) \\cos^{2}{\\left(\\phi \\right)}} & 0 & - \\frac{v_{e}}{\\left(R_{e} + h\\right)^{2} \\cos{\\left(\\phi \\right)}}\\\\0 & 0 & - \\frac{v_{n}}{\\left(R_{n} + h\\right)^{2}}\\\\0 & 0 & 0\\end{matrix}\\right]$"
      ],
      "text/plain": [
       "<IPython.core.display.Math object>"
      ]
     },
     "metadata": {},
     "output_type": "display_data"
    }
   ],
   "source": [
    "# ENU Matrices\n",
    "vu = sympy.symbols('v_u')\n",
    "print(\"ENU\")\n",
    "# display(Math( \"F_{11} = \" + latex(-skew(C_ned_enu @ (w_en_n + w_ie_n))) ))\n",
    "display(Math( \"F_{11} = \" + latex(C_ned_enu @ F11.subs(vd, vu)) ))\n",
    "display(Math( \"F_{12} = \" + latex(C_ned_enu @ F12.subs(vd, vu)) ))\n",
    "display(Math( \"F_{13} = \" + latex(C_ned_enu @ F13.subs(vd, vu)) ))\n",
    "display(Math( \"F_{22} = \" + latex(C_ned_enu @ F22.subs(vd, vu)) ))\n",
    "display(Math( \"F_{23} = \" + latex(C_ned_enu @ F23.subs(vd, vu)) ))\n",
    "display(Math( \"F_{32} = \" + latex(C_ned_enu @ F32.subs(vd, vu)) ))\n",
    "display(Math( \"F_{33} = \" + latex(C_ned_enu @ F33.subs(vd, vu)) ))"
   ]
  },
  {
   "cell_type": "code",
   "execution_count": 34,
   "metadata": {},
   "outputs": [
    {
     "name": "stdout",
     "output_type": "stream",
     "text": [
      "True Az = 76.90991995950667, El = 53.70643414041454\n",
      "Rotated Az = 76.90991995950664, El = 53.706434140414515\n"
     ]
    }
   ],
   "source": [
    "import navtools as nt\n",
    "import numpy as np\n",
    "\n",
    "R2D = 180.0 / np.pi\n",
    "LLA_R2D = np.array([R2D, R2D, 1.0])\n",
    "lla = np.array([32.2, -85.5, 200.0]) / LLA_R2D\n",
    "ecef = nt.lla2ecef(lla)\n",
    "sv_ecef = np.array([13392805.9056497, -17121749.1891207, 14687559.3031646])\n",
    "az,el,r = nt.ecef2aer(sv_ecef, ecef)\n",
    "print(f\"True Az = {az * R2D}, El = {el * R2D}\")\n",
    "u_true = np.array([np.sin(az) * np.cos(el), np.cos(az) * np.cos(el), np.sin(el)])\n",
    "# u = nt.ecef2nedDcm(lla) @ (-(ecef - sv_ecef) / r)\n",
    "u = (-(ecef - sv_ecef) / r) @ nt.ned2ecefDcm(lla)\n",
    "az = np.arctan2(u[1], u[0])\n",
    "el = -np.arcsin(u[2])\n",
    "print(f\"Rotated Az = {az * R2D}, El = {el * R2D}\")"
   ]
  },
  {
   "cell_type": "code",
   "execution_count": 35,
   "metadata": {},
   "outputs": [
    {
     "data": {
      "text/latex": [
       "$\\displaystyle T_r^p = \\left[\\begin{matrix}\\frac{\\sin{\\left(\\phi \\right)}}{\\left(R_{e} + h\\right) \\cos{\\left(\\phi \\right)}} & - \\frac{\\cos{\\left(\\lambda \\right)}}{\\left(R_{e} + h\\right) \\sin{\\left(\\lambda \\right)} \\cos{\\left(\\phi \\right)}} & \\frac{1}{R_{e} + h}\\\\\\frac{\\sin{\\left(\\phi \\right)}}{\\left(R_{e} + h\\right) \\cos{\\left(\\phi \\right)}} & \\frac{\\sin{\\left(\\lambda \\right)}}{\\left(R_{e} + h\\right) \\cos{\\left(\\lambda \\right)} \\cos{\\left(\\phi \\right)}} & \\frac{1}{R_{e} + h}\\\\- \\frac{\\cos{\\left(\\phi \\right)}}{\\left(R_{e} \\left(1 - e^{2}\\right) + h\\right) \\sin{\\left(\\phi \\right)}} & 0 & \\frac{1}{R_{e} \\left(1 - e^{2}\\right) + h}\\end{matrix}\\right]$"
      ],
      "text/plain": [
       "<IPython.core.display.Math object>"
      ]
     },
     "metadata": {},
     "output_type": "display_data"
    }
   ],
   "source": [
    "# C_e_n = sympy.Matrix(\n",
    "#     [\n",
    "#         [-sympy.sin(lamb), sympy.cos(lamb), 0.0],\n",
    "#         [-sympy.sin(phi) * sympy.cos(lamb), -sympy.sin(phi) * sympy.sin(lamb), sympy.cos(phi)],\n",
    "#         [sympy.cos(phi) * sympy.cos(lamb), sympy.cos(phi) * sympy.sin(lamb), sympy.sin(phi)],\n",
    "#     ],\n",
    "# )\n",
    "C_e_n = np.array(\n",
    "    [\n",
    "        [-sympy.sin(phi) * sympy.cos(lamb), -sympy.sin(phi) * sympy.sin(lamb), sympy.cos(phi)],\n",
    "        [-sympy.sin(lamb), sympy.cos(lamb), 0.0],\n",
    "        [-sympy.cos(phi) * sympy.cos(lamb), -sympy.cos(phi) * sympy.sin(lamb), -sympy.sin(phi)],\n",
    "    ],\n",
    ")\n",
    "T_r_p = sympy.Matrix(\n",
    "    [\n",
    "        [0, (Re + h) * sympy.cos(phi) * sympy.cos(lamb), 0],\n",
    "        [(Re + h) * sympy.cos(phi) * sympy.sin(lamb), 0, 0],\n",
    "        [0, 0, ((1-e**2)*Re + h)*sympy.sin(phi)],\n",
    "    ]\n",
    ")\n",
    "\n",
    "display(Math(f\"T_r^p = {sympy.latex(sympy.inv_quick(T_r_p) @ -C_e_n.T)}\"))"
   ]
  },
  {
   "cell_type": "code",
   "execution_count": 36,
   "metadata": {},
   "outputs": [
    {
     "data": {
      "text/latex": [
       "$\\displaystyle C-b-ned = \\left[\\begin{matrix}C_{p} C_{y} & - C_{r} S_{y} + C_{y} S_{p} S_{r} & C_{r} C_{y} S_{p} + S_{r} S_{y}\\\\C_{p} S_{y} & C_{r} C_{y} + S_{p} S_{r} S_{y} & C_{r} S_{p} S_{y} - C_{y} S_{r}\\\\- S_{p} & C_{p} S_{r} & C_{p} C_{r}\\end{matrix}\\right]$"
      ],
      "text/plain": [
       "<IPython.core.display.Math object>"
      ]
     },
     "metadata": {},
     "output_type": "display_data"
    },
    {
     "data": {
      "text/latex": [
       "$\\displaystyle C-b-ned = \\left[\\begin{matrix}C_{r} C_{y} + S_{p} S_{r} S_{y} & - C_{r} S_{y} + C_{y} S_{p} S_{r} & C_{p} S_{r}\\\\C_{p} S_{y} & C_{p} C_{y} & - S_{p}\\\\C_{r} S_{p} S_{y} - C_{y} S_{r} & C_{r} C_{y} S_{p} + S_{r} S_{y} & C_{p} C_{r}\\end{matrix}\\right]$"
      ],
      "text/plain": [
       "<IPython.core.display.Math object>"
      ]
     },
     "metadata": {},
     "output_type": "display_data"
    }
   ],
   "source": [
    "Cy, Cp, Cr, Sy, Sp, Sr = sympy.symbols('C_y C_p C_r S_y S_p S_r')\n",
    "\n",
    "Ry = 1 * sympy.Matrix([[Cy, -Sy, 0],[Sy, Cy, 0],[0, 0, 1]])\n",
    "Rp = 1 * sympy.Matrix([[Cp, 0, Sp],[0, 1, 0],[-Sp, 0, Cp]])\n",
    "Rr = 1 * sympy.Matrix([[1, 0, 0],[0, Cr, -Sr],[0, Sr, Cr]])\n",
    "display(Math(f\"C-b-ned = {sympy.latex((Ry @ Rp @ Rr))}\")) # C.106\n",
    "# display(Math(f\"C-ned-b = {sympy.latex((Ry @ Rp @ Rr).T)}\"))\n",
    "# display(Math(f\"C-b-enu = {sympy.latex(C_ned_enu @ (Ry @ Rp @ Rr))}\")) # C.106\n",
    "\n",
    "Ry = 1 * sympy.Matrix([[Cy, -Sy, 0],[Sy, Cy, 0],[0, 0, 1]])\n",
    "Rr = 1 * sympy.Matrix([[Cr, 0, Sr],[0, 1, 0],[-Sr, 0, Cr]])\n",
    "Rp = 1 * sympy.Matrix([[1, 0, 0],[0, Cp, -Sp],[0, Sp, Cp]])\n",
    "display(Math(f\"C-b-ned = {sympy.latex((Rr @ Rp @ Ry))}\")) # C.106"
   ]
  },
  {
   "cell_type": "code",
   "execution_count": 37,
   "metadata": {},
   "outputs": [
    {
     "name": "stdout",
     "output_type": "stream",
     "text": [
      "0.0\n"
     ]
    },
    {
     "data": {
      "text/latex": [
       "$\\displaystyle p = \\left[\\begin{matrix}0\\\\\\frac{\\sqrt{2}}{2}\\\\\\frac{\\sqrt{2}}{2}\\\\0\\end{matrix}\\right]$"
      ],
      "text/plain": [
       "<IPython.core.display.Math object>"
      ]
     },
     "metadata": {},
     "output_type": "display_data"
    },
    {
     "data": {
      "text/latex": [
       "$\\displaystyle q = \\left[\\begin{matrix}\\sin{\\left(\\frac{p}{2} \\right)} \\sin{\\left(\\frac{r}{2} \\right)} \\sin{\\left(\\frac{y}{2} \\right)} + \\cos{\\left(\\frac{p}{2} \\right)} \\cos{\\left(\\frac{r}{2} \\right)} \\cos{\\left(\\frac{y}{2} \\right)}\\\\- \\sin{\\left(\\frac{p}{2} \\right)} \\sin{\\left(\\frac{y}{2} \\right)} \\cos{\\left(\\frac{r}{2} \\right)} + \\sin{\\left(\\frac{r}{2} \\right)} \\cos{\\left(\\frac{p}{2} \\right)} \\cos{\\left(\\frac{y}{2} \\right)}\\\\\\sin{\\left(\\frac{p}{2} \\right)} \\cos{\\left(\\frac{r}{2} \\right)} \\cos{\\left(\\frac{y}{2} \\right)} + \\sin{\\left(\\frac{r}{2} \\right)} \\sin{\\left(\\frac{y}{2} \\right)} \\cos{\\left(\\frac{p}{2} \\right)}\\\\- \\sin{\\left(\\frac{p}{2} \\right)} \\sin{\\left(\\frac{r}{2} \\right)} \\cos{\\left(\\frac{y}{2} \\right)} + \\sin{\\left(\\frac{y}{2} \\right)} \\cos{\\left(\\frac{p}{2} \\right)} \\cos{\\left(\\frac{r}{2} \\right)}\\end{matrix}\\right]$"
      ],
      "text/plain": [
       "<IPython.core.display.Math object>"
      ]
     },
     "metadata": {},
     "output_type": "display_data"
    },
    {
     "data": {
      "text/latex": [
       "$\\displaystyle r = \\left[\\begin{matrix}- \\frac{\\sqrt{2} \\left(- \\sin{\\left(\\frac{p}{2} \\right)} \\sin{\\left(\\frac{y}{2} \\right)} \\cos{\\left(\\frac{r}{2} \\right)} + \\sin{\\left(\\frac{r}{2} \\right)} \\cos{\\left(\\frac{p}{2} \\right)} \\cos{\\left(\\frac{y}{2} \\right)}\\right)}{2} - \\frac{\\sqrt{2} \\left(\\sin{\\left(\\frac{p}{2} \\right)} \\cos{\\left(\\frac{r}{2} \\right)} \\cos{\\left(\\frac{y}{2} \\right)} + \\sin{\\left(\\frac{r}{2} \\right)} \\sin{\\left(\\frac{y}{2} \\right)} \\cos{\\left(\\frac{p}{2} \\right)}\\right)}{2}\\\\\\frac{\\sqrt{2} \\left(\\sin{\\left(\\frac{p}{2} \\right)} \\sin{\\left(\\frac{r}{2} \\right)} \\sin{\\left(\\frac{y}{2} \\right)} + \\cos{\\left(\\frac{p}{2} \\right)} \\cos{\\left(\\frac{r}{2} \\right)} \\cos{\\left(\\frac{y}{2} \\right)}\\right)}{2} + \\frac{\\sqrt{2} \\left(- \\sin{\\left(\\frac{p}{2} \\right)} \\sin{\\left(\\frac{r}{2} \\right)} \\cos{\\left(\\frac{y}{2} \\right)} + \\sin{\\left(\\frac{y}{2} \\right)} \\cos{\\left(\\frac{p}{2} \\right)} \\cos{\\left(\\frac{r}{2} \\right)}\\right)}{2}\\\\\\frac{\\sqrt{2} \\left(\\sin{\\left(\\frac{p}{2} \\right)} \\sin{\\left(\\frac{r}{2} \\right)} \\sin{\\left(\\frac{y}{2} \\right)} + \\cos{\\left(\\frac{p}{2} \\right)} \\cos{\\left(\\frac{r}{2} \\right)} \\cos{\\left(\\frac{y}{2} \\right)}\\right)}{2} - \\frac{\\sqrt{2} \\left(- \\sin{\\left(\\frac{p}{2} \\right)} \\sin{\\left(\\frac{r}{2} \\right)} \\cos{\\left(\\frac{y}{2} \\right)} + \\sin{\\left(\\frac{y}{2} \\right)} \\cos{\\left(\\frac{p}{2} \\right)} \\cos{\\left(\\frac{r}{2} \\right)}\\right)}{2}\\\\- \\frac{\\sqrt{2} \\left(- \\sin{\\left(\\frac{p}{2} \\right)} \\sin{\\left(\\frac{y}{2} \\right)} \\cos{\\left(\\frac{r}{2} \\right)} + \\sin{\\left(\\frac{r}{2} \\right)} \\cos{\\left(\\frac{p}{2} \\right)} \\cos{\\left(\\frac{y}{2} \\right)}\\right)}{2} + \\frac{\\sqrt{2} \\left(\\sin{\\left(\\frac{p}{2} \\right)} \\cos{\\left(\\frac{r}{2} \\right)} \\cos{\\left(\\frac{y}{2} \\right)} + \\sin{\\left(\\frac{r}{2} \\right)} \\sin{\\left(\\frac{y}{2} \\right)} \\cos{\\left(\\frac{p}{2} \\right)}\\right)}{2}\\end{matrix}\\right]$"
      ],
      "text/plain": [
       "<IPython.core.display.Math object>"
      ]
     },
     "metadata": {},
     "output_type": "display_data"
    },
    {
     "data": {
      "text/latex": [
       "$\\displaystyle r0 = - a \\cos{\\left(\\frac{y}{2} + \\frac{\\pi}{4} \\right)} - b \\sin{\\left(\\frac{y}{2} + \\frac{\\pi}{4} \\right)}$"
      ],
      "text/plain": [
       "<IPython.core.display.Math object>"
      ]
     },
     "metadata": {},
     "output_type": "display_data"
    },
    {
     "data": {
      "text/latex": [
       "$\\displaystyle r1 = - c \\cos{\\left(\\frac{y}{2} + \\frac{\\pi}{4} \\right)} + d \\sin{\\left(\\frac{y}{2} + \\frac{\\pi}{4} \\right)}$"
      ],
      "text/plain": [
       "<IPython.core.display.Math object>"
      ]
     },
     "metadata": {},
     "output_type": "display_data"
    },
    {
     "data": {
      "text/latex": [
       "$\\displaystyle r2 = c \\sin{\\left(\\frac{y}{2} + \\frac{\\pi}{4} \\right)} + d \\cos{\\left(\\frac{y}{2} + \\frac{\\pi}{4} \\right)}$"
      ],
      "text/plain": [
       "<IPython.core.display.Math object>"
      ]
     },
     "metadata": {},
     "output_type": "display_data"
    },
    {
     "data": {
      "text/latex": [
       "$\\displaystyle r3 = a \\sin{\\left(\\frac{y}{2} + \\frac{\\pi}{4} \\right)} - b \\cos{\\left(\\frac{y}{2} + \\frac{\\pi}{4} \\right)}$"
      ],
      "text/plain": [
       "<IPython.core.display.Math object>"
      ]
     },
     "metadata": {},
     "output_type": "display_data"
    }
   ],
   "source": [
    "\n",
    "R = sympy.Matrix([[0,1,0],[1,0,0],[0,0,-1]])\n",
    "print( np.sqrt( 1 + np.trace(np.array([[0,1,0],[1,0,0],[0,0,-1]])) ) )\n",
    "\n",
    "r, p, y, a,b,c,d = sympy.symbols('r p y a b c d')\n",
    "Cr = sympy.cos(r/2)\n",
    "Cp = sympy.cos(p/2)\n",
    "Cy = sympy.cos(y/2)\n",
    "Sr = sympy.sin(r/2)\n",
    "Sp = sympy.sin(p/2)\n",
    "Sy = sympy.sin(y/2)\n",
    "\n",
    "# body-to-nav quaternion\n",
    "q = sympy.Matrix(\n",
    "    [\n",
    "        Cy * Cp * Cr + Sy * Sp * Sr,\n",
    "        Cy * Cp * Sr - Sy * Sp * Cr,\n",
    "        Cy * Sp * Cr + Sy * Cp * Sr,\n",
    "        Sy * Cp * Cr - Cy * Sp * Sr,\n",
    "    ],\n",
    ")\n",
    "p = sympy.Matrix([0, sympy.cos(sympy.pi/4), sympy.cos(sympy.pi/4), 0])\n",
    "r = sympy.Matrix(\n",
    "    [\n",
    "        (p[0] * q[0] - p[1] * q[1] - p[2] * q[2] - p[3] * q[3]),\n",
    "        (p[0] * q[1] + p[1] * q[0] + p[2] * q[3] - p[3] * q[2]),\n",
    "        (p[0] * q[2] - p[1] * q[3] + p[2] * q[0] + p[3] * q[1]),\n",
    "        (p[0] * q[3] + p[1] * q[2] - p[2] * q[1] + p[3] * q[0]),\n",
    "    ]\n",
    ")\n",
    "# r = sympy.collect(r, Cy, evaluate=False)\n",
    "display(Math(f\"p = {sympy.latex(p)}\"))\n",
    "display(Math(f\"q = {sympy.latex(q)}\"))\n",
    "display(Math(f\"r = {sympy.latex(r)}\"))\n",
    "display(Math(f\"r0 = {sympy.latex(r[0].subs(Sp*Cr, a).subs(Cp*Sr, b).simplify())}\"))\n",
    "display(Math(f\"r1 = {sympy.latex(r[1].subs(Sp*Sr, c).subs(Cp*Cr, d).simplify())}\"))\n",
    "display(Math(f\"r2 = {sympy.latex(r[2].subs(Sp*Sr, c).subs(Cp*Cr, d).simplify())}\"))\n",
    "display(Math(f\"r3 = {sympy.latex(r[3].subs(Sp*Cr, a).subs(Cp*Sr, b).simplify())}\"))\n",
    "\n"
   ]
  },
  {
   "cell_type": "code",
   "execution_count": 38,
   "metadata": {},
   "outputs": [
    {
     "name": "stdout",
     "output_type": "stream",
     "text": [
      "C_b_ned = \n",
      "[[-0.49969541  0.80782952  0.31259553]\n",
      " [-0.86549784 -0.48018348 -0.14260894]\n",
      " [ 0.0348995  -0.34181179  0.93912019]]\n",
      "C_b_enu = \n",
      "[[-0.86549784 -0.48018348 -0.14260894]\n",
      " [-0.49969541  0.80782952  0.31259553]\n",
      " [-0.0348995   0.34181179 -0.93912019]]\n",
      "\n",
      "q_ned = [-0.48970432  0.10169547 -0.1417672   0.85425393]\n",
      "q_enu = [ 0.02833499  0.2577755  -0.95032199 -0.1721541 ]\n",
      "\n",
      "q_ned2 = [ 0.48970432 -0.10169547  0.1417672  -0.85425393]\n",
      "q_enu2 = [ 0.02833499  0.2577755  -0.95032199 -0.1721541 ]\n",
      "\n",
      "rpy_ned_dcm = [ -20.   -2. -120.]\n",
      "rpy_enu_dcm = [ -20.   -2. -120.]\n",
      "\n",
      "rpy_ned_quat = [ -20.   -2. -120.]\n",
      "rpy_enu_quat = [ -20.   -2. -120.]\n",
      "\n"
     ]
    }
   ],
   "source": [
    "import navtools as nt\n",
    "import numpy as np\n",
    "\n",
    "R2D = 180 / np.pi\n",
    "\n",
    "rpy = np.array([-20,-2,240])\n",
    "C_b_ned = nt.euler2dcm(rpy / R2D, \"ned\")\n",
    "C_b_enu = nt.euler2dcm(rpy / R2D, \"enu\")\n",
    "q_b_ned = nt.euler2quat(rpy / R2D, \"ned\")\n",
    "q_b_enu = nt.euler2quat(rpy / R2D, \"enu\")\n",
    "print(f\"C_b_ned = \\n{C_b_ned}\")\n",
    "print(f\"C_b_enu = \\n{C_b_enu}\\n\")\n",
    "print(f\"q_ned = {q_b_ned}\")\n",
    "print(f\"q_enu = {q_b_enu}\\n\")\n",
    "print(f\"q_ned2 = {nt.dcm2quat(C_b_ned)}\")\n",
    "print(f\"q_enu2 = {nt.dcm2quat(C_b_enu)}\\n\")\n",
    "\n",
    "print(f\"rpy_ned_dcm = {nt.dcm2euler(C_b_ned, 'ned') * R2D}\")\n",
    "print(f\"rpy_enu_dcm = {nt.dcm2euler(C_b_enu, 'enu') * R2D}\\n\")\n",
    "print(f\"rpy_ned_quat = {nt.quat2euler(q_b_ned, 'ned') * R2D}\")\n",
    "print(f\"rpy_enu_quat = {nt.quat2euler(q_b_enu, 'enu') * R2D}\\n\")"
   ]
  },
  {
   "cell_type": "code",
   "execution_count": 39,
   "metadata": {},
   "outputs": [
    {
     "data": {
      "text/latex": [
       "$\\displaystyle \\phi_{gnss} = \\frac{2 Q Z \\pi e_{enu}}{\\lambda}$"
      ],
      "text/plain": [
       "<IPython.core.display.Math object>"
      ]
     },
     "metadata": {},
     "output_type": "display_data"
    },
    {
     "data": {
      "text/latex": [
       "$\\displaystyle \\frac{2 Z \\pi \\left(Q \\delta_{e} + \\delta_{Q} e_{enu}\\right)}{\\lambda}$"
      ],
      "text/plain": [
       "<IPython.core.display.Math object>"
      ]
     },
     "metadata": {},
     "output_type": "display_data"
    }
   ],
   "source": [
    "# pi, lamb, phi_gnss, phi_ins = sympy.symbols('\\pi \\lambda \\phi_{gnss} \\phi_{ins}')\n",
    "# psi, theta, r, p, y = sympy.symbols('\\psi \\\\theta r p y')\n",
    "\n",
    "# Ry = 1 * sympy.Matrix([[sympy.cos(y), -sympy.sin(y), 0],[sympy.sin(y), sympy.cos(y), 0],[0, 0, 1]])\n",
    "# Rp = 1 * sympy.Matrix([[sympy.cos(p), 0, sympy.sin(p)],[0, 1, 0],[-sympy.sin(p), 0, sympy.cos(p)]])\n",
    "# Rr = 1 * sympy.Matrix([[1, 0, 0],[0, sympy.cos(r), -sympy.sin(r)],[0, sympy.sin(r), sympy.cos(r)]])\n",
    "# Q = (C_ned_enu @ (Ry @ Rp @ Rr)).T\n",
    "# Z = 0.5 * sympy.Matrix([[0, 0, 0], [lamb, 0, 0], [0, -lamb, 0], [lamb, -lamb, 0]])\n",
    "# e_enu = sympy.Matrix([sympy.sin(psi)*sympy.cos(theta), sympy.cos(psi)*sympy.cos(theta), sympy.sin(theta)])\n",
    "\n",
    "# phi = 2.0*pi/lamb * Z @ Q @ e_enu\n",
    "# d_phi_d_Q = sympy.diff(phi_gnss, r)\n",
    "# # d_phi_d_e = sympy.diff(phi_gnss, e_enu)\n",
    "\n",
    "# display(Math(f\"{sympy.latex(phi_gnss)} = {sympy.latex(phi.subs({Q: 'Q', Z: 'z', e_enu: 'e_{enu}'}))}\"))\n",
    "# display(Math(f\"h({sympy.latex(phi_gnss)}|{sympy.latex(Q)}) = {sympy.latex(d_phi_d_Q)}\"))\n",
    "\n",
    "def taylor_polynomial_sympy(function_expression, variable_list, evaluation_point, degree):\n",
    "    \"\"\"\n",
    "    function_expression:    Sympy expression of the function\n",
    "    variable_list:          list. All variables to be approximated (to be \"Taylorized\")\n",
    "    evaluation_point:       list. Coordinates, where the function will be expressed\n",
    "    degree:                 int. Total degree of the Taylor polynomial\n",
    "    \n",
    "    Returns a Sympy expression of the Taylor series up to a given degree, of a given multivariate expression, \n",
    "    approximated as a multivariate polynomial evaluated at the evaluation_point\n",
    "    \"\"\"\n",
    "    from sympy import factorial, Matrix, prod\n",
    "    import itertools\n",
    "\n",
    "    n_var = len(variable_list)\n",
    "    point_coordinates = [(i, j) for i, j in (zip(variable_list, evaluation_point))]  # list of tuples with variables and their evaluation_point coordinates, to later perform substitution\n",
    "\n",
    "    deriv_orders = list(itertools.product(range(degree + 1), repeat=n_var))  # list with exponentials of the partial derivatives\n",
    "    deriv_orders = [deriv_orders[i] for i in range(len(deriv_orders)) if sum(deriv_orders[i]) <= degree]  # Discarding some higher-order terms\n",
    "    n_terms = len(deriv_orders)\n",
    "    deriv_orders_as_input = [list(sum(list(zip(variable_list, deriv_orders[i])), ())) for i in range(n_terms)]  # Individual degree of each partial derivative, of each term\n",
    "\n",
    "    polynomial = 0\n",
    "    for i in range(n_terms):\n",
    "        partial_derivatives_at_point = function_expression.diff(*deriv_orders_as_input[i]).subs(point_coordinates)  # e.g. df/(dx*dy**2)\n",
    "        denominator = prod([factorial(j) for j in deriv_orders[i]])  # e.g. (1! * 2!)\n",
    "        distances_powered = prod([(Matrix(variable_list) - Matrix(evaluation_point))[j] ** deriv_orders[i][j] for j in range(n_var)])  # e.g. (x-x0)*(y-y0)**2\n",
    "        polynomial += partial_derivatives_at_point / denominator * distances_powered\n",
    "    return polynomial\n",
    "\n",
    "pi, lamb, Z, Q, e_enu, del_e, del_Q = sympy.symbols('\\pi \\lambda Z Q e_enu \\delta_e \\delta_Q')\n",
    "phi_gnss, phi_ins = sympy.symbols('\\phi_{gnss} \\phi_{ins}')\n",
    "phi = (2*pi/lamb) * (Z * Q * e_enu)\n",
    "dh_dy = sympy.simplify(taylor_polynomial_sympy(phi, [Q, e_enu], [del_Q, del_e], 1))\n",
    "dQde = del_Q*del_e\n",
    "\n",
    "display(Math(f\"{sympy.latex(phi_gnss)} = {sympy.latex(phi)}\"))\n",
    "display(Math(sympy.latex(dh_dy.subs({dQde: 0}))))"
   ]
  },
  {
   "cell_type": "code",
   "execution_count": 40,
   "metadata": {},
   "outputs": [],
   "source": [
    "# dt, S_x, S_y, S_z, S_b, S_d = sympy.symbols('dt S_x S_y S_z S_b S_d')\n",
    "\n",
    "# I3 = sympy.Identity(3)\n",
    "# I8 = sympy.Identity(8)\n",
    "# Z23 = sympy.Matrix([[0,0,0],[0,0,0]])\n",
    "# Z32 = Z23.T\n",
    "# Z3 = sympy.Matrix([[0,0,0],[0,0,0],[0,0,0]])\n",
    "\n",
    "# clk_f = sympy.Matrix([[0, 1], [0, 0]])\n",
    "# clk_qc = sympy.Matrix([[S_b, 0], [0, S_d]])\n",
    "# Ac = sympy.Matrix(sympy.BlockMatrix(\n",
    "#     [\n",
    "#         [F33, F32, Z32],\n",
    "#         [F23, F22, Z32],\n",
    "#         [Z23, Z23, clk_f],\n",
    "#     ]\n",
    "# ))\n",
    "# Sa = sympy.Matrix([[S_x,0,0],[0,S_y,0],[0,0,S_z]])\n",
    "# Qc = sympy.Matrix(sympy.BlockMatrix([[Z3, Z3, Z32], [Z3, Sa, Z32], [Z23, Z23, clk_qc]]))\n",
    "# Q_tmp = sympy.simplify(sympy.Matrix((I8 + Ac*dt) @ Qc @ (I8 + Ac.T*dt)))\n",
    "# # Qd = sympy.integrate(Q_tmp, dt)\n",
    "\n",
    "# display(Math( \"Q_c = \" + latex(Qc) ))\n",
    "# display(Math( \"A_tmp = \" + latex(Q_tmp) ))"
   ]
  }
 ],
 "metadata": {
  "kernelspec": {
   "display_name": "charlizard-jHNn-XJK-py3.11",
   "language": "python",
   "name": "python3"
  },
  "language_info": {
   "codemirror_mode": {
    "name": "ipython",
    "version": 3
   },
   "file_extension": ".py",
   "mimetype": "text/x-python",
   "name": "python",
   "nbconvert_exporter": "python",
   "pygments_lexer": "ipython3",
   "version": "3.11.4"
  }
 },
 "nbformat": 4,
 "nbformat_minor": 2
}
