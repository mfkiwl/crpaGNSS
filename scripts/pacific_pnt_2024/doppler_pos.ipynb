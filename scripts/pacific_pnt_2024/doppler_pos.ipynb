{
 "cells": [
  {
   "cell_type": "code",
   "execution_count": 10,
   "metadata": {},
   "outputs": [],
   "source": [
    "import sympy\n",
    "from sympy.physics.mechanics import init_vprinting\n",
    "from IPython.display import display, Math\n",
    "\n",
    "init_vprinting()\n",
    "\n",
    "x_u, y_u, z_u, x_sv, y_sv, z_sv = sympy.symbols('x_u y_u z_u x_sv y_sv z_sv')\n",
    "vx_u, vy_u, vz_u, vx_sv, vy_sv, vz_sv = sympy.symbols('v_{x\\,u} v{y\\,u} v_{z\\,u} v_{x\\,sv} v_{y\\,sv} v_{z\\,sv}')\n",
    "c, b, d = sympy.symbols('c t \\dot{t}')\n",
    "rhodot_0, rho_0, r_0 = sympy.symbols('\\\\rhodot_0 \\\\rho_0 r_0')\n",
    "\n",
    "dx = x_u - x_sv\n",
    "dy = y_u - y_sv\n",
    "dz = z_u - z_sv\n",
    "dvx = vx_u - vx_sv\n",
    "dvy = vy_u - vy_sv\n",
    "dvz = vz_u - vz_sv\n",
    "\n",
    "d_x = sympy.Symbol(\"\\Delta x\")\n",
    "d_y = sympy.Symbol(\"\\Delta y\")\n",
    "d_z = sympy.Symbol(\"\\Delta z\")\n",
    "d_vx = sympy.Symbol(\"\\Delta v_x\")\n",
    "d_vy = sympy.Symbol(\"\\Delta v_y\")\n",
    "d_vz = sympy.Symbol(\"\\Delta v_z\")"
   ]
  },
  {
   "cell_type": "code",
   "execution_count": 11,
   "metadata": {},
   "outputs": [
    {
     "data": {
      "text/latex": [
       "$\\displaystyle \\rho_{0} = c t + r_{0}$"
      ],
      "text/plain": [
       "<IPython.core.display.Math object>"
      ]
     },
     "metadata": {},
     "output_type": "display_data"
    },
    {
     "data": {
      "text/latex": [
       "$\\displaystyle \\dot{\\rho}_{0} = \\frac{\\Delta v_{x} \\Delta x}{r_{0}} + \\frac{\\Delta v_{y} \\Delta y}{r_{0}} + \\frac{\\Delta v_{z} \\Delta z}{r_{0}} + \\dot{t} c$"
      ],
      "text/plain": [
       "<IPython.core.display.Math object>"
      ]
     },
     "metadata": {},
     "output_type": "display_data"
    }
   ],
   "source": [
    "r0 = sympy.sqrt(dx**2 + dy**2 + dz**2)\n",
    "dr = sympy.Matrix([dx, dy, dz])\n",
    "dv = sympy.Matrix([dvx, dvy, dvz])\n",
    "u = dr / r0\n",
    "rho0 = r0 + c*b\n",
    "rho_dot0 = dv.dot(u) + c*d\n",
    "\n",
    "rho0_disp = rho0.subs({r0: 'r_0', dx: d_x, dy: d_y, dz: d_z})\n",
    "rho_dot0_disp = rho_dot0.subs({r0: 'r_0', dx: d_x, dy: d_y, dz: d_z, dvx: d_vx, dvy: d_vy, dvz: d_vz})\n",
    "\n",
    "display(Math(sympy.latex(rho_0) +  ' = ' + sympy.latex(rho0_disp)))\n",
    "display(Math(sympy.latex(rhodot_0) +  ' = ' + sympy.latex(rho_dot0_disp)))"
   ]
  },
  {
   "cell_type": "code",
   "execution_count": 12,
   "metadata": {},
   "outputs": [
    {
     "data": {
      "text/latex": [
       "$\\displaystyle h(\\rho_{0}, x_{u}) = \\frac{\\Delta x}{r_{0}}$"
      ],
      "text/plain": [
       "<IPython.core.display.Math object>"
      ]
     },
     "metadata": {},
     "output_type": "display_data"
    },
    {
     "data": {
      "text/latex": [
       "$\\displaystyle h(\\rho_{0}, y_{u}) = \\frac{\\Delta y}{r_{0}}$"
      ],
      "text/plain": [
       "<IPython.core.display.Math object>"
      ]
     },
     "metadata": {},
     "output_type": "display_data"
    },
    {
     "data": {
      "text/latex": [
       "$\\displaystyle h(\\rho_{0}, z_{u}) = \\frac{\\Delta z}{r_{0}}$"
      ],
      "text/plain": [
       "<IPython.core.display.Math object>"
      ]
     },
     "metadata": {},
     "output_type": "display_data"
    },
    {
     "data": {
      "text/latex": [
       "$\\displaystyle h(\\rho_{0}, t) = 1$"
      ],
      "text/plain": [
       "<IPython.core.display.Math object>"
      ]
     },
     "metadata": {},
     "output_type": "display_data"
    }
   ],
   "source": [
    "d_rho_d_vx = sympy.diff(rho0, x_u).subs({r0: 'r_0', dx: d_x, dy: d_y, dz: d_z})\n",
    "d_rho_d_vy = sympy.diff(rho0, y_u).subs({r0: 'r_0', dx: d_x, dy: d_y, dz: d_z})\n",
    "d_rho_d_vz = sympy.diff(rho0, z_u).subs({r0: 'r_0', dx: d_x, dy: d_y, dz: d_z})\n",
    "d_rho_d_d = sympy.diff(rho0, b).subs({r0: 'r_0', dx: d_x, dy: d_y, dz: d_z}) / c\n",
    "    \n",
    "display(Math('h(' + sympy.latex(rho_0) + ', ' + sympy.latex(x_u) + ') = ' + sympy.latex(d_rho_d_vx)))\n",
    "display(Math('h(' + sympy.latex(rho_0) + ', ' + sympy.latex(y_u) + ') = ' + sympy.latex(d_rho_d_vy)))\n",
    "display(Math('h(' + sympy.latex(rho_0) + ', ' + sympy.latex(z_u) + ') = ' + sympy.latex(d_rho_d_vz)))\n",
    "display(Math('h(' + sympy.latex(rho_0) + ', ' + sympy.latex(b) + ') = ' + sympy.latex(d_rho_d_d)))"
   ]
  },
  {
   "cell_type": "code",
   "execution_count": 13,
   "metadata": {},
   "outputs": [
    {
     "data": {
      "text/latex": [
       "$\\displaystyle h(\\dot{\\rho}_{0}, x_{u}) = \\frac{\\Delta v_{x} r_{0}^{2} - \\Delta x \\left(\\Delta v_{x} \\Delta x + \\Delta v_{y} \\Delta y + \\Delta v_{z} \\Delta z\\right)}{r_{0}^{3}}$"
      ],
      "text/plain": [
       "<IPython.core.display.Math object>"
      ]
     },
     "metadata": {},
     "output_type": "display_data"
    },
    {
     "data": {
      "text/latex": [
       "$\\displaystyle h(\\dot{\\rho}_{0}, y_{u}) = \\frac{\\Delta v_{y} r_{0}^{2} - \\Delta y \\left(\\Delta v_{x} \\Delta x + \\Delta v_{y} \\Delta y + \\Delta v_{z} \\Delta z\\right)}{r_{0}^{3}}$"
      ],
      "text/plain": [
       "<IPython.core.display.Math object>"
      ]
     },
     "metadata": {},
     "output_type": "display_data"
    },
    {
     "data": {
      "text/latex": [
       "$\\displaystyle h(\\dot{\\rho}_{0}, z_{u}) = \\frac{\\Delta v_{z} r_{0}^{2} - \\Delta z \\left(\\Delta v_{x} \\Delta x + \\Delta v_{y} \\Delta y + \\Delta v_{z} \\Delta z\\right)}{r_{0}^{3}}$"
      ],
      "text/plain": [
       "<IPython.core.display.Math object>"
      ]
     },
     "metadata": {},
     "output_type": "display_data"
    },
    {
     "data": {
      "text/latex": [
       "$\\displaystyle h(\\dot{\\rho}_{0}, v_{x,u}) = \\frac{\\Delta x}{r_{0}}$"
      ],
      "text/plain": [
       "<IPython.core.display.Math object>"
      ]
     },
     "metadata": {},
     "output_type": "display_data"
    },
    {
     "data": {
      "text/latex": [
       "$\\displaystyle h(\\dot{\\rho}_{0}, v{y,u}) = \\frac{\\Delta y}{r_{0}}$"
      ],
      "text/plain": [
       "<IPython.core.display.Math object>"
      ]
     },
     "metadata": {},
     "output_type": "display_data"
    },
    {
     "data": {
      "text/latex": [
       "$\\displaystyle h(\\dot{\\rho}_{0}, v_{z,u}) = \\frac{\\Delta z}{r_{0}}$"
      ],
      "text/plain": [
       "<IPython.core.display.Math object>"
      ]
     },
     "metadata": {},
     "output_type": "display_data"
    },
    {
     "data": {
      "text/latex": [
       "$\\displaystyle h(\\dot{\\rho}_{0}, t) = 0$"
      ],
      "text/plain": [
       "<IPython.core.display.Math object>"
      ]
     },
     "metadata": {},
     "output_type": "display_data"
    },
    {
     "data": {
      "text/latex": [
       "$\\displaystyle h(\\dot{\\rho}_{0}, \\dot{t}) = 1$"
      ],
      "text/plain": [
       "<IPython.core.display.Math object>"
      ]
     },
     "metadata": {},
     "output_type": "display_data"
    }
   ],
   "source": [
    "d_rhodot_d_h = sympy.Matrix([rho_dot0]).jacobian(sympy.Matrix([x_u, y_u, z_u, vx_u, vy_u, vz_u, b, d])).T\n",
    "d_rhodot_d_x = sympy.simplify(d_rhodot_d_h[0].subs({r0: 'r_0', dx: d_x, dy: d_y, dz: d_z, dvx: d_vx, dvy: d_vy, dvz: d_vz}))\n",
    "d_rhodot_d_y = sympy.simplify(d_rhodot_d_h[1].subs({r0: 'r_0', dx: d_x, dy: d_y, dz: d_z, dvx: d_vx, dvy: d_vy, dvz: d_vz}))\n",
    "d_rhodot_d_z = sympy.simplify(d_rhodot_d_h[2].subs({r0: 'r_0', dx: d_x, dy: d_y, dz: d_z, dvx: d_vx, dvy: d_vy, dvz: d_vz}))\n",
    "d_rhodot_d_vx = sympy.simplify(d_rhodot_d_h[3].subs({r0: 'r_0', dx: d_x, dy: d_y, dz: d_z, dvx: d_vx, dvy: d_vy, dvz: d_vz}))\n",
    "d_rhodot_d_vy = sympy.simplify(d_rhodot_d_h[4].subs({r0: 'r_0', dx: d_x, dy: d_y, dz: d_z, dvx: d_vx, dvy: d_vy, dvz: d_vz}))\n",
    "d_rhodot_d_vz = sympy.simplify(d_rhodot_d_h[5].subs({r0: 'r_0', dx: d_x, dy: d_y, dz: d_z, dvx: d_vx, dvy: d_vy, dvz: d_vz}))\n",
    "d_rhodot_d_b = sympy.simplify(d_rhodot_d_h[6].subs({r0: 'r_0', dx: d_x, dy: d_y, dz: d_z, dvx: d_vx, dvy: d_vy, dvz: d_vz})) / c\n",
    "d_rhodot_d_d = sympy.simplify(d_rhodot_d_h[7].subs({r0: 'r_0', dx: d_x, dy: d_y, dz: d_z, dvx: d_vx, dvy: d_vy, dvz: d_vz})) / c\n",
    "display(Math('h(' + sympy.latex(rhodot_0) + ', ' + sympy.latex(x_u) + ') = ' + sympy.latex(d_rhodot_d_x)))\n",
    "display(Math('h(' + sympy.latex(rhodot_0) + ', ' + sympy.latex(y_u) + ') = ' + sympy.latex(d_rhodot_d_y)))\n",
    "display(Math('h(' + sympy.latex(rhodot_0) + ', ' + sympy.latex(z_u) + ') = ' + sympy.latex(d_rhodot_d_z)))\n",
    "display(Math('h(' + sympy.latex(rhodot_0) + ', ' + sympy.latex(vx_u) + ') = ' + sympy.latex(d_rhodot_d_vx)))\n",
    "display(Math('h(' + sympy.latex(rhodot_0) + ', ' + sympy.latex(vy_u) + ') = ' + sympy.latex(d_rhodot_d_vy)))\n",
    "display(Math('h(' + sympy.latex(rhodot_0) + ', ' + sympy.latex(vz_u) + ') = ' + sympy.latex(d_rhodot_d_vz)))\n",
    "display(Math('h(' + sympy.latex(rhodot_0) + ', ' + sympy.latex(b) + ') = ' + sympy.latex(d_rhodot_d_b)))\n",
    "display(Math('h(' + sympy.latex(rhodot_0) + ', ' + sympy.latex(d) + ') = ' + sympy.latex(d_rhodot_d_d)))"
   ]
  },
  {
   "cell_type": "code",
   "execution_count": 14,
   "metadata": {},
   "outputs": [
    {
     "data": {
      "text/latex": [
       "$\\displaystyle F = \\left[\\begin{matrix}- \\Omega & 0 & 0 & 0 & C\\\\F_{21} & - 2 \\Omega & F_{23} & C & 0\\\\0 & I & 0 & 0 & 0\\\\0 & 0 & 0 & 0 & 0\\\\0 & 0 & 0 & 0 & 0\\end{matrix}\\right]$"
      ],
      "text/plain": [
       "<IPython.core.display.Math object>"
      ]
     },
     "metadata": {},
     "output_type": "display_data"
    },
    {
     "data": {
      "text/latex": [
       "$\\displaystyle Q = \\left[\\begin{matrix}I S_{rg} & 0 & 0 & 0 & 0\\\\0 & I S_{ra} & 0 & 0 & 0\\\\0 & 0 & 0 & 0 & 0\\\\0 & 0 & 0 & I S_{bad} & 0\\\\0 & 0 & 0 & 0 & I S_{bgd}\\end{matrix}\\right]$"
      ],
      "text/plain": [
       "<IPython.core.display.Math object>"
      ]
     },
     "metadata": {},
     "output_type": "display_data"
    }
   ],
   "source": [
    "T, I, OMEGA, C, F21, F23 = sympy.symbols('T I \\Omega C F_{21} F_{23}')\n",
    "Srg, Sra, Sbad, Sbgd, Tc = sympy.symbols('S_{rg} S_{ra} S_{bad} S_{bgd} T_c')\n",
    "F = sympy.Matrix([[-OMEGA, 0, 0, 0, C], \n",
    "                  [F21, -2*OMEGA, F23, C, 0], \n",
    "                  [0, I, 0, 0, 0],\n",
    "                  [0, 0, 0, 0, 0],\n",
    "                  [0, 0, 0, 0, 0]])\n",
    "Q = sympy.Matrix([[Srg*I, 0, 0, 0, 0], \n",
    "                  [0, Sra*I, 0, 0, 0], \n",
    "                  [0, 0, 0, 0, 0], \n",
    "                  [0, 0, 0, Sbad*I, 0], \n",
    "                  [0, 0, 0, 0, Sbgd*I]])\n",
    "\n",
    "display(Math('F = ' + sympy.latex(F)))\n",
    "display(Math('Q = ' + sympy.latex(Q)))"
   ]
  },
  {
   "cell_type": "code",
   "execution_count": 15,
   "metadata": {},
   "outputs": [
    {
     "data": {
      "text/latex": [
       "$\\displaystyle \\Phi = \\left[\\begin{matrix}I \\left(- T \\Omega + 1\\right) & 0 & 0 & 0 & C T\\\\F_{21} T & I - 2 T \\Omega & F_{23} T & C T & 0\\\\0 & I T & I & 0 & 0\\\\0 & 0 & 0 & I & 0\\\\0 & 0 & 0 & 0 & I\\end{matrix}\\right]$"
      ],
      "text/plain": [
       "<IPython.core.display.Math object>"
      ]
     },
     "metadata": {},
     "output_type": "display_data"
    },
    {
     "data": {
      "text/latex": [
       "$\\displaystyle Q_{ins} = \\left[\\begin{matrix}- I^{3} S_{rg} T^{2} \\Omega + I^{3} S_{rg} T + T^{7} \\left(\\frac{C^{2} I S_{bgd} \\Omega^{4}}{252} + \\frac{I S_{rg} \\Omega^{6}}{252}\\right) + T^{6} \\left(- \\frac{C^{2} I S_{bgd} \\Omega^{3}}{36} - \\frac{I S_{rg} \\Omega^{5}}{36}\\right) + T^{5} \\cdot \\left(\\frac{7 C^{2} I S_{bgd} \\Omega^{2}}{60} + \\frac{I^{2} S_{rg} \\Omega^{4}}{15} + \\frac{I S_{rg} \\Omega^{4}}{20}\\right) + T^{4} \\left(- \\frac{C^{2} I S_{bgd} \\Omega}{4} - \\frac{I^{2} S_{rg} \\Omega^{3}}{3}\\right) + T^{3} \\left(\\frac{C^{2} I S_{bgd}}{3} + \\frac{I^{3} S_{rg} \\Omega^{2}}{3} + \\frac{I^{2} S_{rg} \\Omega^{2}}{3}\\right) & - \\frac{5 F_{21} I^{2} S_{rg} T^{3} \\Omega}{6} + \\frac{F_{21} I^{2} S_{rg} T^{2}}{2} + T^{7} \\left(- \\frac{C^{2} F_{21} I S_{bgd} \\Omega^{3}}{84} - \\frac{F_{21} F_{23} I^{2} S_{rg} \\Omega^{3}}{252} - \\frac{F_{21} I S_{rg} \\Omega^{5}}{36}\\right) + T^{6} \\left(\\frac{C^{2} F_{21} I S_{bgd} \\Omega^{2}}{18} + \\frac{F_{21} F_{23} I^{2} S_{rg} \\Omega^{2}}{72} + \\frac{5 F_{21} I S_{rg} \\Omega^{4}}{36}\\right) + T^{5} \\left(- \\frac{3 C^{2} F_{21} I S_{bgd} \\Omega}{20} - \\frac{F_{21} F_{23} I^{3} S_{rg} \\Omega}{30} - \\frac{7 F_{21} I^{2} S_{rg} \\Omega^{3}}{30} - \\frac{11 F_{21} I S_{rg} \\Omega^{3}}{60}\\right) + T^{4} \\left(\\frac{C^{2} F_{21} I S_{bgd}}{8} + \\frac{F_{21} F_{23} I^{3} S_{rg}}{24} + \\frac{2 F_{21} I^{2} S_{rg} \\Omega^{2}}{3} + \\frac{F_{21} I S_{rg} \\Omega^{2}}{8}\\right) & - \\frac{F_{21} I^{3} S_{rg} T^{4} \\Omega}{4} + \\frac{F_{21} I^{3} S_{rg} T^{3}}{6} + T^{7} \\left(\\frac{C^{2} F_{21} I^{2} S_{bgd} \\Omega^{2}}{252} + \\frac{F_{21} I^{2} S_{rg} \\Omega^{4}}{84}\\right) + T^{6} \\left(- \\frac{C^{2} F_{21} I^{2} S_{bgd} \\Omega}{72} - \\frac{F_{21} I^{2} S_{rg} \\Omega^{3}}{18}\\right) + T^{5} \\left(\\frac{C^{2} F_{21} I^{2} S_{bgd}}{30} + \\frac{F_{21} I^{3} S_{rg} \\Omega^{2}}{10} + \\frac{F_{21} I^{2} S_{rg} \\Omega^{2}}{20}\\right) & 0 & \\frac{C I^{2} S_{bgd} T^{4} \\Omega^{2}}{24} - \\frac{C I^{2} S_{bgd} T^{3} \\Omega}{6} + \\frac{C I^{2} S_{bgd} T^{2}}{2}\\\\- \\frac{5 F_{21} I^{2} S_{rg} T^{3} \\Omega}{6} + \\frac{F_{21} I^{2} S_{rg} T^{2}}{2} + T^{7} \\left(- \\frac{C^{2} F_{21} I S_{bgd} \\Omega^{3}}{84} - \\frac{F_{21} F_{23} I^{2} S_{rg} \\Omega^{3}}{252} - \\frac{F_{21} I S_{rg} \\Omega^{5}}{36}\\right) + T^{6} \\left(\\frac{C^{2} F_{21} I S_{bgd} \\Omega^{2}}{18} + \\frac{F_{21} F_{23} I^{2} S_{rg} \\Omega^{2}}{72} + \\frac{5 F_{21} I S_{rg} \\Omega^{4}}{36}\\right) + T^{5} \\left(- \\frac{3 C^{2} F_{21} I S_{bgd} \\Omega}{20} - \\frac{F_{21} F_{23} I^{3} S_{rg} \\Omega}{30} - \\frac{7 F_{21} I^{2} S_{rg} \\Omega^{3}}{30} - \\frac{11 F_{21} I S_{rg} \\Omega^{3}}{60}\\right) + T^{4} \\left(\\frac{C^{2} F_{21} I S_{bgd}}{8} + \\frac{F_{21} F_{23} I^{3} S_{rg}}{24} + \\frac{2 F_{21} I^{2} S_{rg} \\Omega^{2}}{3} + \\frac{F_{21} I S_{rg} \\Omega^{2}}{8}\\right) & I^{3} S_{ra} T - 2 I^{2} S_{ra} T^{2} \\Omega + T^{7} \\left(\\frac{C^{2} F_{21}^{2} I S_{bgd} \\Omega^{2}}{28} + \\frac{C^{2} F_{23}^{2} I^{3} S_{bad}}{252} + \\frac{2 C^{2} F_{23} I^{2} S_{bad} \\Omega^{2}}{63} + \\frac{4 C^{2} I S_{bad} \\Omega^{4}}{63} + \\frac{F_{21}^{2} F_{23}^{2} I^{3} S_{rg}}{252} + \\frac{F_{21}^{2} F_{23} I^{2} S_{rg} \\Omega^{2}}{18} + \\frac{7 F_{21}^{2} I S_{rg} \\Omega^{4}}{36} + \\frac{4 F_{23}^{2} I^{3} S_{ra} \\Omega^{2}}{63} + \\frac{16 F_{23} I^{2} S_{ra} \\Omega^{4}}{63} + \\frac{16 I S_{ra} \\Omega^{6}}{63}\\right) + T^{6} \\left(- \\frac{C^{2} F_{21}^{2} I S_{bgd} \\Omega}{12} - \\frac{C^{2} F_{23} I^{3} S_{bad} \\Omega}{18} - \\frac{2 C^{2} I^{2} S_{bad} \\Omega^{3}}{9} - \\frac{F_{21}^{2} F_{23} I^{2} S_{rg} \\Omega}{12} - \\frac{7 F_{21}^{2} I S_{rg} \\Omega^{3}}{12} - \\frac{F_{23}^{2} I^{3} S_{ra} \\Omega}{9} - \\frac{2 F_{23} I^{2} S_{ra} \\Omega^{3}}{3} - \\frac{8 I S_{ra} \\Omega^{5}}{9}\\right) + T^{5} \\left(\\frac{C^{2} F_{21}^{2} I S_{bgd}}{20} + \\frac{C^{2} F_{23} I^{2} S_{bad}}{15} + \\frac{C^{2} I^{3} S_{bad} \\Omega^{2}}{5} + \\frac{4 C^{2} I S_{bad} \\Omega^{2}}{15} + \\frac{F_{21}^{2} F_{23} I^{2} S_{rg}}{15} + \\frac{11 F_{21}^{2} I S_{rg} \\Omega^{2}}{12} + \\frac{F_{23}^{2} I^{3} S_{ra}}{20} + \\frac{14 F_{23} I^{2} S_{ra} \\Omega^{2}}{15} + \\frac{28 I S_{ra} \\Omega^{4}}{15}\\right) + T^{4} \\left(- \\frac{C^{2} I^{2} S_{bad} \\Omega}{2} - \\frac{3 F_{21}^{2} I S_{rg} \\Omega}{4} - \\frac{F_{23} I^{3} S_{ra} \\Omega}{3} - \\frac{F_{23} I^{2} S_{ra} \\Omega}{2} - \\frac{2 I^{2} S_{ra} \\Omega^{3}}{3} - 2 I S_{ra} \\Omega^{3}\\right) + T^{3} \\left(\\frac{C^{2} I S_{bad}}{3} + \\frac{F_{21}^{2} I S_{rg}}{3} + \\frac{F_{23} I^{3} S_{ra}}{3} + \\frac{4 I^{2} S_{ra} \\Omega^{2}}{3} + \\frac{4 I S_{ra} \\Omega^{2}}{3}\\right) & \\frac{I^{3} S_{ra} T^{2}}{2} + T^{7} \\left(- \\frac{C^{2} F_{21}^{2} I^{2} S_{bgd} \\Omega}{84} - \\frac{C^{2} F_{23} I^{3} S_{bad} \\Omega}{126} - \\frac{2 C^{2} I^{2} S_{bad} \\Omega^{3}}{63} - \\frac{F_{21}^{2} F_{23} I^{3} S_{rg} \\Omega}{84} - \\frac{F_{21}^{2} I^{2} S_{rg} \\Omega^{3}}{12} - \\frac{F_{23}^{2} I^{4} S_{ra} \\Omega}{63} - \\frac{2 F_{23} I^{3} S_{ra} \\Omega^{3}}{21} - \\frac{8 I^{2} S_{ra} \\Omega^{5}}{63}\\right) + T^{6} \\left(\\frac{C^{2} F_{21}^{2} I^{2} S_{bgd}}{72} + \\frac{C^{2} F_{23} I^{3} S_{bad}}{72} + \\frac{C^{2} I^{3} S_{bad} \\Omega^{2}}{18} + \\frac{C^{2} I^{2} S_{bad} \\Omega^{2}}{18} + \\frac{F_{21}^{2} F_{23} I^{3} S_{rg}}{72} + \\frac{2 F_{21}^{2} I^{2} S_{rg} \\Omega^{2}}{9} + \\frac{F_{23}^{2} I^{4} S_{ra}}{72} + \\frac{F_{23} I^{4} S_{ra} \\Omega^{2}}{9} + \\frac{F_{23} I^{3} S_{ra} \\Omega^{2}}{9} + \\frac{2 I^{3} S_{ra} \\Omega^{4}}{9} + \\frac{2 I^{2} S_{ra} \\Omega^{4}}{9}\\right) + T^{5} \\left(- \\frac{C^{2} I^{3} S_{bad} \\Omega}{10} - \\frac{C^{2} I^{2} S_{bad} \\Omega}{15} - \\frac{F_{21}^{2} I^{2} S_{rg} \\Omega}{4} - \\frac{F_{23} I^{4} S_{ra} \\Omega}{10} - \\frac{F_{23} I^{3} S_{ra} \\Omega}{5} - \\frac{2 I^{3} S_{ra} \\Omega^{3}}{5} - \\frac{8 I^{2} S_{ra} \\Omega^{3}}{15}\\right) + T^{4} \\left(\\frac{C^{2} I^{2} S_{bad}}{8} + \\frac{F_{21}^{2} I^{2} S_{rg}}{8} + \\frac{F_{23} I^{4} S_{ra}}{24} + \\frac{F_{23} I^{3} S_{ra}}{8} + \\frac{2 I^{3} S_{ra} \\Omega^{2}}{3} + \\frac{I^{2} S_{ra} \\Omega^{2}}{2}\\right) + T^{3} \\left(- \\frac{I^{4} S_{ra} \\Omega}{3} - \\frac{2 I^{2} S_{ra} \\Omega}{3}\\right) & - \\frac{C I^{3} S_{bad} T^{3} \\Omega}{3} + \\frac{C I^{2} S_{bad} T^{2}}{2} + T^{4} \\left(\\frac{C F_{23} I^{3} S_{bad}}{24} + \\frac{C I^{2} S_{bad} \\Omega^{2}}{6}\\right) & - \\frac{C F_{21} I^{2} S_{bgd} T^{4} \\Omega}{8} + \\frac{C F_{21} I^{2} S_{bgd} T^{3}}{6}\\\\- \\frac{F_{21} I^{3} S_{rg} T^{4} \\Omega}{4} + \\frac{F_{21} I^{3} S_{rg} T^{3}}{6} + T^{7} \\left(\\frac{C^{2} F_{21} I^{2} S_{bgd} \\Omega^{2}}{252} + \\frac{F_{21} I^{2} S_{rg} \\Omega^{4}}{84}\\right) + T^{6} \\left(- \\frac{C^{2} F_{21} I^{2} S_{bgd} \\Omega}{72} - \\frac{F_{21} I^{2} S_{rg} \\Omega^{3}}{18}\\right) + T^{5} \\left(\\frac{C^{2} F_{21} I^{2} S_{bgd}}{30} + \\frac{F_{21} I^{3} S_{rg} \\Omega^{2}}{10} + \\frac{F_{21} I^{2} S_{rg} \\Omega^{2}}{20}\\right) & \\frac{I^{3} S_{ra} T^{2}}{2} + T^{7} \\left(- \\frac{C^{2} F_{21}^{2} I^{2} S_{bgd} \\Omega}{84} - \\frac{C^{2} F_{23} I^{3} S_{bad} \\Omega}{126} - \\frac{2 C^{2} I^{2} S_{bad} \\Omega^{3}}{63} - \\frac{F_{21}^{2} F_{23} I^{3} S_{rg} \\Omega}{84} - \\frac{F_{21}^{2} I^{2} S_{rg} \\Omega^{3}}{12} - \\frac{F_{23}^{2} I^{4} S_{ra} \\Omega}{63} - \\frac{2 F_{23} I^{3} S_{ra} \\Omega^{3}}{21} - \\frac{8 I^{2} S_{ra} \\Omega^{5}}{63}\\right) + T^{6} \\left(\\frac{C^{2} F_{21}^{2} I^{2} S_{bgd}}{72} + \\frac{C^{2} F_{23} I^{3} S_{bad}}{72} + \\frac{C^{2} I^{3} S_{bad} \\Omega^{2}}{18} + \\frac{C^{2} I^{2} S_{bad} \\Omega^{2}}{18} + \\frac{F_{21}^{2} F_{23} I^{3} S_{rg}}{72} + \\frac{2 F_{21}^{2} I^{2} S_{rg} \\Omega^{2}}{9} + \\frac{F_{23}^{2} I^{4} S_{ra}}{72} + \\frac{F_{23} I^{4} S_{ra} \\Omega^{2}}{9} + \\frac{F_{23} I^{3} S_{ra} \\Omega^{2}}{9} + \\frac{2 I^{3} S_{ra} \\Omega^{4}}{9} + \\frac{2 I^{2} S_{ra} \\Omega^{4}}{9}\\right) + T^{5} \\left(- \\frac{C^{2} I^{3} S_{bad} \\Omega}{10} - \\frac{C^{2} I^{2} S_{bad} \\Omega}{15} - \\frac{F_{21}^{2} I^{2} S_{rg} \\Omega}{4} - \\frac{F_{23} I^{4} S_{ra} \\Omega}{10} - \\frac{F_{23} I^{3} S_{ra} \\Omega}{5} - \\frac{2 I^{3} S_{ra} \\Omega^{3}}{5} - \\frac{8 I^{2} S_{ra} \\Omega^{3}}{15}\\right) + T^{4} \\left(\\frac{C^{2} I^{2} S_{bad}}{8} + \\frac{F_{21}^{2} I^{2} S_{rg}}{8} + \\frac{F_{23} I^{4} S_{ra}}{24} + \\frac{F_{23} I^{3} S_{ra}}{8} + \\frac{2 I^{3} S_{ra} \\Omega^{2}}{3} + \\frac{I^{2} S_{ra} \\Omega^{2}}{2}\\right) + T^{3} \\left(- \\frac{I^{4} S_{ra} \\Omega}{3} - \\frac{2 I^{2} S_{ra} \\Omega}{3}\\right) & - \\frac{I^{4} S_{ra} T^{4} \\Omega}{2} + \\frac{I^{3} S_{ra} T^{3}}{3} + T^{7} \\left(\\frac{C^{2} F_{21}^{2} I^{3} S_{bgd}}{252} + \\frac{C^{2} I^{3} S_{bad} \\Omega^{2}}{63} + \\frac{F_{21}^{2} I^{3} S_{rg} \\Omega^{2}}{28} + \\frac{F_{23}^{2} I^{5} S_{ra}}{252} + \\frac{2 F_{23} I^{4} S_{ra} \\Omega^{2}}{63} + \\frac{4 I^{3} S_{ra} \\Omega^{4}}{63}\\right) + T^{6} \\left(- \\frac{C^{2} I^{3} S_{bad} \\Omega}{18} - \\frac{F_{21}^{2} I^{3} S_{rg} \\Omega}{12} - \\frac{F_{23} I^{5} S_{ra} \\Omega}{18} - \\frac{2 I^{4} S_{ra} \\Omega^{3}}{9}\\right) + T^{5} \\left(\\frac{C^{2} I^{3} S_{bad}}{20} + \\frac{F_{21}^{2} I^{3} S_{rg}}{20} + \\frac{F_{23} I^{4} S_{ra}}{15} + \\frac{I^{5} S_{ra} \\Omega^{2}}{5} + \\frac{4 I^{3} S_{ra} \\Omega^{2}}{15}\\right) & - \\frac{C I^{3} S_{bad} T^{4} \\Omega}{12} + \\frac{C I^{3} S_{bad} T^{3}}{6} & \\frac{C F_{21} I^{3} S_{bgd} T^{4}}{24}\\\\0 & - \\frac{C I^{3} S_{bad} T^{3} \\Omega}{3} + \\frac{C I^{2} S_{bad} T^{2}}{2} + T^{4} \\left(\\frac{C F_{23} I^{3} S_{bad}}{24} + \\frac{C I^{2} S_{bad} \\Omega^{2}}{6}\\right) & - \\frac{C I^{3} S_{bad} T^{4} \\Omega}{12} + \\frac{C I^{3} S_{bad} T^{3}}{6} & I^{3} S_{bad} T & 0\\\\\\frac{C I^{2} S_{bgd} T^{4} \\Omega^{2}}{24} - \\frac{C I^{2} S_{bgd} T^{3} \\Omega}{6} + \\frac{C I^{2} S_{bgd} T^{2}}{2} & - \\frac{C F_{21} I^{2} S_{bgd} T^{4} \\Omega}{8} + \\frac{C F_{21} I^{2} S_{bgd} T^{3}}{6} & \\frac{C F_{21} I^{3} S_{bgd} T^{4}}{24} & 0 & I^{3} S_{bgd} T\\end{matrix}\\right]$"
      ],
      "text/plain": [
       "<IPython.core.display.Math object>"
      ]
     },
     "metadata": {},
     "output_type": "display_data"
    }
   ],
   "source": [
    "eq0 = I * (-T*OMEGA + 1)\n",
    "eq1 = I - T*OMEGA\n",
    "eq2 = -I*T*OMEGA + I\n",
    "eq3 = F23*T**3\n",
    "eq4 = F23*T**2\n",
    "# eq5 = OMEGA**2 * T**3\n",
    "eq6 = OMEGA**2 * T**2\n",
    "\n",
    "Phi = sum([(F*T)**n / sympy.factorial(n) for n in range(4)], sympy.zeros(*(F.shape)))\n",
    "Phi = sympy.simplify(Phi.subs({1: I, eq0: eq1}))\n",
    "\n",
    "Phi_third_order = sum([(F*T)**n / sympy.factorial(n) for n in range(2)], sympy.zeros(*(F.shape)))\n",
    "Phi_third_order = sympy.simplify(Phi_third_order.subs({1: I, eq2: eq1, eq3: 0, eq4: 0, eq6: 0}))\n",
    "\n",
    "Qins = sympy.integrate(Phi @ Q @ Phi.T, T)\n",
    "# Qins\n",
    "\n",
    "display(Math('\\Phi = ' + sympy.latex(Phi_third_order)))\n",
    "display(Math('Q_{ins} = ' + sympy.latex(Qins)))"
   ]
  },
  {
   "cell_type": "code",
   "execution_count": 16,
   "metadata": {},
   "outputs": [
    {
     "data": {
      "text/latex": [
       "$\\displaystyle \\tilde{\\dot{\\rho}} = -496.800847663355$"
      ],
      "text/plain": [
       "<IPython.core.display.Math object>"
      ]
     },
     "metadata": {},
     "output_type": "display_data"
    },
    {
     "data": {
      "text/latex": [
       "$\\displaystyle \\hat{\\dot{\\rho}}_{normal} = -496.80084765833$"
      ],
      "text/plain": [
       "<IPython.core.display.Math object>"
      ]
     },
     "metadata": {},
     "output_type": "display_data"
    },
    {
     "data": {
      "text/latex": [
       "$\\displaystyle \\hat{\\dot{\\rho}}_{adr} = -496.776135038817$"
      ],
      "text/plain": [
       "<IPython.core.display.Math object>"
      ]
     },
     "metadata": {},
     "output_type": "display_data"
    }
   ],
   "source": [
    "import numpy as np\n",
    "from navtools.constants import SPEED_OF_LIGHT\n",
    "\n",
    "def adr(user_pos, clk_bias, sv_pos):\n",
    "    return np.linalg.norm(sv_pos - user_pos) + SPEED_OF_LIGHT*clk_bias\n",
    "\n",
    "def doppler(user_pos, sv_pos, user_vel, sv_vel, clk_drift):\n",
    "    dr = user_pos - sv_pos\n",
    "    dv = user_vel - sv_vel\n",
    "    u = dr / np.linalg.norm(dr)\n",
    "    return ((dv @ u) + clk_drift) / (1 + clk_drift/SPEED_OF_LIGHT)\n",
    "\n",
    "# dtR = 0.2\n",
    "# true_rng = 2361372.0819724873\n",
    "# true_rng_rate = -492.98383301482636\n",
    "# meas_doppler = 2674.2373963257282\n",
    "# meas_carr_rng = 2361372.0814966047\n",
    "# meas_code_rng = 2361372.0814966047\n",
    "# meas_rng_rate = -492.9845978908595\n",
    "# sv_pos = np.array([[ 2618098.38549747, -5121128.17123267,  4251269.85591403],\n",
    "#                    [ 2618530.93901259, -5121902.19770823,  4250074.39936631],\n",
    "#                    [ 2618963.35880647, -5122676.01900147,  4248878.75152476],\n",
    "#                    [ 2619395.64053991, -5123449.62733223,  4247682.9244046 ],\n",
    "#                    [ 2619827.78852518, -5124223.0304036 ,  4246486.90609293]])\n",
    "# sv_vel = np.array([[ 2164.27306152, -3872.74550663, -5980.04078356],\n",
    "#                    [ 2163.59330573, -3871.69977322, -5980.96797111],\n",
    "#                    [ 2162.91348318, -3870.65384676, -5981.89490287],\n",
    "#                    [ 2162.23360069, -3869.60773776, -5982.82156952],\n",
    "#                    [ 2161.5536515 , -3868.56143582, -5983.74798031]])\n",
    "# clk_bias = np.array([-0.00012337268500457217, -0.00033873190336710393, -0.00047588262273906215, -0.0007133982737917383, -0.0006065172264074682])\n",
    "# clk_drift = np.array([-0.00029497021019008417, -0.000723671966153016, -0.0007648760331704639, -0.0009870029637982086, 2.506772969866034e-05])\n",
    "\n",
    "dtR = 0.1\n",
    "true_rng = 2361470.959079965\n",
    "true_rng_rate = -496.80142859752505\n",
    "meas_doppler = 2694.938971788712\n",
    "meas_carr_rng = 2361470.9591526166\n",
    "meas_code_rng = 2361470.9591526166\n",
    "meas_rng_rate = -496.8008476633547\n",
    "sv_pos = np.array([[ 2618098.38549747, -5121128.17123267,  4251269.85591403],\n",
    "                   [ 2618314.78527247, -5121515.40033874,  4250671.85776232],\n",
    "                   [ 2618531.15104504, -5121902.57713488,  4250073.81323062],\n",
    "                   [ 2618747.48281307, -5122289.70161653,  4249475.72232558],\n",
    "                   [ 2618963.78057524, -5122676.77377892,  4248877.58505366]])\n",
    "sv_vel = np.array([[ 2164.27306152, -3872.74550663, -5980.04078356],\n",
    "                   [ 2163.93302492, -3872.22240706, -5980.50463717],\n",
    "                   [ 2163.59297246, -3871.69926048, -5980.96842561],\n",
    "                   [ 2163.25290414, -3871.17606691, -5981.43214888],\n",
    "                   [ 2162.91281996, -3870.65282634, -5981.89580698]])\n",
    "clk_bias = np.array([7.759699437878688e-06, 6.621749120576468e-05, 7.265157221816069e-05, 0.0001783077553401663, 0.0002909483200181631])\n",
    "clk_drift = np.array([0.0003582286832368324, 0.0005536740334845491, 0.0005809341703224349, 0.0004726276623775185, 0.0007642346798539351])\n",
    "\n",
    "user_pos = np.array([[  422619.72885128, -5362844.31654549,  3415528.91050409],\n",
    "                     [  422619.72885128, -5362844.31654549,  3415528.91050409],\n",
    "                     [  422619.72885128, -5362844.31654549,  3415528.91050409],\n",
    "                     [  422619.72885128, -5362844.31654549,  3415528.91050409],\n",
    "                     [  422619.72885128, -5362844.31654549,  3415528.91050409]])\n",
    "user_vel = np.array([[0., 0., 0.],\n",
    "                     [0., 0., 0.],\n",
    "                     [0., 0., 0.], \n",
    "                     [0., 0., 0.], \n",
    "                     [0., 0., 0.]])\n",
    "\n",
    "cb = clk_bias[2] / SPEED_OF_LIGHT\n",
    "cd = clk_drift[2] / SPEED_OF_LIGHT\n",
    "ratio = 1 + cd\n",
    "\n",
    "# normal doppler measurement\n",
    "est_rng_rate_normal = doppler(user_pos[2,:], sv_pos[2,:], user_vel[2,:], sv_vel[2,:], clk_drift[2])\n",
    "\n",
    "# adr doppler measurement\n",
    "est_rng_rate_adr = ( adr(user_pos[2,:] - 2*user_vel[2,:]*dtR/ratio, cb - 2*cd*dtR/ratio, sv_pos[0,:]) \\\n",
    "                 - 8*adr(user_pos[2,:] -   user_vel[2,:]*dtR/ratio, cb -   cd*dtR/ratio, sv_pos[1,:]) \\\n",
    "                 + 8*adr(user_pos[2,:] +   user_vel[2,:]*dtR/ratio, cb +   cd*dtR/ratio, sv_pos[3,:]) \\\n",
    "                 -   adr(user_pos[2,:] + 2*user_vel[2,:]*dtR/ratio, cb + 2*cd*dtR/ratio, sv_pos[4,:])) \\\n",
    "                 / (12*dtR)\n",
    "\n",
    "display(Math('\\\\tilde{\\dot{\\\\rho}} = ' + sympy.latex(meas_rng_rate)))\n",
    "display(Math('\\hat{\\dot{\\\\rho}}_{normal} = ' + sympy.latex(est_rng_rate_normal)))\n",
    "display(Math('\\hat{\\dot{\\\\rho}}_{adr} = ' + sympy.latex(est_rng_rate_adr)))\n"
   ]
  },
  {
   "cell_type": "code",
   "execution_count": 17,
   "metadata": {},
   "outputs": [
    {
     "name": "stdout",
     "output_type": "stream",
     "text": [
      "0.02126421835330403 0.02126421835330403 0.0\n"
     ]
    }
   ],
   "source": [
    "wl = 1626.25e6 / 299792458\n",
    "cn0 = 10**(68/10)\n",
    "bw = 18\n",
    "T = 0.02\n",
    "\n",
    "err1 = (wl/(2*np.pi*T))**2 * (4*bw/cn0 * (1+1/(T*cn0)))\n",
    "err2 = (wl/(np.pi*T))**2 * (bw/cn0 * (1 + 1/(cn0*T)))\n",
    "\n",
    "print(err1, err2, err1 - err2)"
   ]
  }
 ],
 "metadata": {
  "kernelspec": {
   "display_name": "charlizard-Wq0nIMj7-py3.10",
   "language": "python",
   "name": "python3"
  },
  "language_info": {
   "codemirror_mode": {
    "name": "ipython",
    "version": 3
   },
   "file_extension": ".py",
   "mimetype": "text/x-python",
   "name": "python",
   "nbconvert_exporter": "python",
   "pygments_lexer": "ipython3",
   "version": "3.10.12"
  }
 },
 "nbformat": 4,
 "nbformat_minor": 2
}
